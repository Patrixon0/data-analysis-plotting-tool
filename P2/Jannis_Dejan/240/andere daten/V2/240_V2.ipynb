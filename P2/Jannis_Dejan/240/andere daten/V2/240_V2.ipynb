{
 "cells": [
  {
   "cell_type": "code",
   "execution_count": 4,
   "metadata": {},
   "outputs": [],
   "source": [
    "import sys\n",
    "import os\n",
    "import sympy as sp\n",
    "import numpy as np\n",
    "\n",
    "# Add the correct path to the P2 folder\n",
    "sys.path.append(os.path.abspath(os.path.join(os.getcwd(), '..', '..','..','..')))\n",
    "\n",
    "from gauss_fehlerfortpflanzung import evaluate_gaussian_error, gaussian_error_propagation\n",
    "from geraden_fit import geraden_fit\n",
    "from scientific_error_rounder import runden_und_speichern\n",
    "\n",
    "# Einfach hier oben Curser auf Funktion halten für Dokumentation"
   ]
  },
  {
   "cell_type": "code",
   "execution_count": 6,
   "metadata": {},
   "outputs": [
    {
     "name": "stdout",
     "output_type": "stream",
     "text": [
      "Die gerundeten Daten wurden in der Datei \"3_neu_rounded.txt\" gespeichert.\n",
      "Die gerundeten Daten wurden in der Datei \"3_neu_0_rounded.txt\" gespeichert.\n",
      "Die gerundeten Daten wurden in der Datei \"3_neu_max_rounded.txt\" gespeichert.\n",
      "Die gerundeten Daten wurden in der Datei \"3_ohne_neu_rounded.txt\" gespeichert.\n"
     ]
    }
   ],
   "source": [
    "runden_und_speichern('3_neu.txt')\n",
    "runden_und_speichern('3_neu_0.txt')\n",
    "runden_und_speichern('3_neu_max.txt')\n",
    "runden_und_speichern('3_ohne_neu.txt')"
   ]
  },
  {
   "cell_type": "code",
   "execution_count": 9,
   "metadata": {},
   "outputs": [
    {
     "name": "stderr",
     "output_type": "stream",
     "text": [
      "c:\\Users\\Dejan\\Desktop\\Uni\\3. Semester\\P2\\data-analasys-plotting-tool\\P2\\geraden_fit.py:84: RuntimeWarning: invalid value encountered in scalar divide\n",
      "  mean_1 += (z_input[i] / err_input[i] ** 2)\n",
      "c:\\Users\\Dejan\\Desktop\\Uni\\3. Semester\\P2\\data-analasys-plotting-tool\\P2\\geraden_fit.py:85: RuntimeWarning: divide by zero encountered in scalar divide\n",
      "  mean_2 += (1 / (err_input[i] ** 2))\n",
      "c:\\Users\\Dejan\\Desktop\\Uni\\3. Semester\\P2\\data-analasys-plotting-tool\\P2\\geraden_fit.py:207: RuntimeWarning: invalid value encountered in divide\n",
      "  xy_err_mean = np.mean((y_err * np.sqrt(((x_err / x_val)/(y_err / (y_val-y_inter)))**2 + 1))) # Beruecksichtigung des X-Fehlers für folgende Fehlerberechnung der Geradensteigung\n"
     ]
    },
    {
     "ename": "ValueError",
     "evalue": "cannot convert NaN to integer",
     "output_type": "error",
     "traceback": [
      "\u001b[1;31m---------------------------------------------------------------------------\u001b[0m",
      "\u001b[1;31mValueError\u001b[0m                                Traceback (most recent call last)",
      "Cell \u001b[1;32mIn[9], line 1\u001b[0m\n\u001b[1;32m----> 1\u001b[0m \u001b[43mgeraden_fit\u001b[49m\u001b[43m(\u001b[49m\n\u001b[0;32m      2\u001b[0m \u001b[43m    \u001b[49m\u001b[43mexp_nr\u001b[49m\u001b[38;5;241;43m=\u001b[39;49m\u001b[38;5;124;43m'\u001b[39;49m\u001b[38;5;124;43m'\u001b[39;49m\u001b[43m,\u001b[49m\n\u001b[0;32m      3\u001b[0m \u001b[43m    \u001b[49m\u001b[43mfile_n\u001b[49m\u001b[38;5;241;43m=\u001b[39;49m\u001b[38;5;124;43m'\u001b[39;49m\u001b[38;5;124;43m3_neu_0.txt\u001b[39;49m\u001b[38;5;124;43m'\u001b[39;49m\u001b[43m,\u001b[49m\n\u001b[0;32m      4\u001b[0m \u001b[43m    \u001b[49m\u001b[43mtitle\u001b[49m\u001b[38;5;241;43m=\u001b[39;49m\u001b[38;5;124;43mr\u001b[39;49m\u001b[38;5;124;43m'\u001b[39;49m\u001b[38;5;124;43mAbb. 1: Aufgabe c) $B$ gegen $H$\u001b[39;49m\u001b[38;5;124;43m'\u001b[39;49m\u001b[43m,\u001b[49m\n\u001b[0;32m      5\u001b[0m \u001b[43m    \u001b[49m\u001b[43my_label\u001b[49m\u001b[38;5;241;43m=\u001b[39;49m\u001b[38;5;124;43mr\u001b[39;49m\u001b[38;5;124;43m'\u001b[39;49m\u001b[38;5;124;43m$B$ [T]\u001b[39;49m\u001b[38;5;124;43m'\u001b[39;49m\u001b[43m,\u001b[49m\n\u001b[0;32m      6\u001b[0m \u001b[43m    \u001b[49m\u001b[43mx_label\u001b[49m\u001b[38;5;241;43m=\u001b[39;49m\u001b[38;5;124;43mr\u001b[39;49m\u001b[38;5;124;43m'\u001b[39;49m\u001b[38;5;124;43m$H$ [A/m]\u001b[39;49m\u001b[38;5;124;43m'\u001b[39;49m\u001b[43m,\u001b[49m\n\u001b[0;32m      7\u001b[0m \u001b[43m    \u001b[49m\u001b[43msave\u001b[49m\u001b[38;5;241;43m=\u001b[39;49m\u001b[38;5;28;43;01mTrue\u001b[39;49;00m\u001b[43m,\u001b[49m\n\u001b[0;32m      8\u001b[0m \u001b[43m    \u001b[49m\u001b[43mlength\u001b[49m\u001b[38;5;241;43m=\u001b[39;49m\u001b[38;5;241;43m10\u001b[39;49m\u001b[43m,\u001b[49m\n\u001b[0;32m      9\u001b[0m \u001b[43m    \u001b[49m\u001b[43mheight\u001b[49m\u001b[38;5;241;43m=\u001b[39;49m\u001b[38;5;241;43m7\u001b[39;49m\u001b[43m,\u001b[49m\n\u001b[0;32m     10\u001b[0m \u001b[43m    \u001b[49m\u001b[43mx_axis\u001b[49m\u001b[38;5;241;43m=\u001b[39;49m\u001b[38;5;241;43m-\u001b[39;49m\u001b[38;5;241;43m50\u001b[39;49m\u001b[43m,\u001b[49m\n\u001b[0;32m     11\u001b[0m \u001b[43m    \u001b[49m\u001b[43my_axis\u001b[49m\u001b[38;5;241;43m=\u001b[39;49m\u001b[38;5;241;43m-\u001b[39;49m\u001b[38;5;241;43m25\u001b[39;49m\u001b[43m,\u001b[49m\n\u001b[0;32m     12\u001b[0m \u001b[43m    \u001b[49m\u001b[43mx_major_ticks\u001b[49m\u001b[38;5;241;43m=\u001b[39;49m\u001b[38;5;241;43m1000\u001b[39;49m\u001b[43m,\u001b[49m\u001b[43m   \u001b[49m\u001b[38;5;66;43;03m# Hauptticks alle 10 Einheiten\u001b[39;49;00m\n\u001b[0;32m     13\u001b[0m \u001b[43m    \u001b[49m\u001b[43mx_minor_ticks\u001b[49m\u001b[38;5;241;43m=\u001b[39;49m\u001b[38;5;241;43m500\u001b[39;49m\u001b[43m,\u001b[49m\u001b[43m    \u001b[49m\u001b[38;5;66;43;03m# Nebenticks alle 1 Einheit\u001b[39;49;00m\n\u001b[0;32m     14\u001b[0m \u001b[43m    \u001b[49m\u001b[43my_major_ticks\u001b[49m\u001b[38;5;241;43m=\u001b[39;49m\u001b[38;5;241;43m250\u001b[39;49m\u001b[43m,\u001b[49m\n\u001b[0;32m     15\u001b[0m \u001b[43m    \u001b[49m\u001b[43my_minor_ticks\u001b[49m\u001b[38;5;241;43m=\u001b[39;49m\u001b[38;5;241;43m125\u001b[39;49m\u001b[43m,\u001b[49m\n\u001b[0;32m     16\u001b[0m \u001b[43m\t\u001b[49m\u001b[43mlinear_fit\u001b[49m\u001b[38;5;241;43m=\u001b[39;49m\u001b[38;5;28;43;01mTrue\u001b[39;49;00m\u001b[43m,\u001b[49m\n\u001b[0;32m     17\u001b[0m \u001b[43m    \u001b[49m\u001b[43mlegendlocation\u001b[49m\u001b[38;5;241;43m=\u001b[39;49m\u001b[38;5;124;43m'\u001b[39;49m\u001b[38;5;124;43mbest\u001b[39;49m\u001b[38;5;124;43m'\u001b[39;49m\u001b[43m,\u001b[49m\n\u001b[0;32m     18\u001b[0m \u001b[43m    \u001b[49m\u001b[38;5;66;43;03m# y_labels=['$R$'],  # Provide labels for each dataset\u001b[39;49;00m\n\u001b[0;32m     19\u001b[0m \u001b[43m    \u001b[49m\u001b[38;5;66;43;03m# y_markers=['o'],       # Optional: specify markers\u001b[39;49;00m\n\u001b[0;32m     20\u001b[0m \u001b[43m    \u001b[49m\u001b[43my_colors\u001b[49m\u001b[38;5;241;43m=\u001b[39;49m\u001b[43m[\u001b[49m\u001b[38;5;124;43m'\u001b[39;49m\u001b[38;5;124;43mblue\u001b[39;49m\u001b[38;5;124;43m'\u001b[39;49m\u001b[43m]\u001b[49m\u001b[43m,\u001b[49m\u001b[43m \u001b[49m\u001b[38;5;66;43;03m# Optional: specify colors\u001b[39;49;00m\n\u001b[0;32m     21\u001b[0m \u001b[43m    \u001b[49m\u001b[43mx_decimal_places\u001b[49m\u001b[38;5;241;43m=\u001b[39;49m\u001b[38;5;241;43m0\u001b[39;49m\u001b[43m,\u001b[49m\n\u001b[0;32m     22\u001b[0m \u001b[43m    \u001b[49m\u001b[43my_decimal_places\u001b[49m\u001b[38;5;241;43m=\u001b[39;49m\u001b[38;5;241;43m1\u001b[39;49m\u001b[43m,\u001b[49m\n\u001b[0;32m     23\u001b[0m \u001b[43m    \u001b[49m\u001b[43mplot_errors\u001b[49m\u001b[43m \u001b[49m\u001b[38;5;241;43m=\u001b[39;49m\u001b[43m  \u001b[49m\u001b[38;5;28;43;01mFalse\u001b[39;49;00m\u001b[43m,\u001b[49m\n\u001b[0;32m     24\u001b[0m \u001b[43m    \u001b[49m\u001b[43msize\u001b[49m\u001b[43m \u001b[49m\u001b[38;5;241;43m=\u001b[39;49m\u001b[43m \u001b[49m\u001b[38;5;241;43m1\u001b[39;49m\u001b[43m,\u001b[49m\n\u001b[0;32m     25\u001b[0m \u001b[43m)\u001b[49m\n\u001b[0;32m     27\u001b[0m \u001b[38;5;66;03m#geraden_fit(\u001b[39;00m\n\u001b[0;32m     28\u001b[0m \u001b[38;5;66;03m#    exp_nr='240',\u001b[39;00m\n\u001b[0;32m     29\u001b[0m \u001b[38;5;66;03m#    file_n='3_neu_0',\u001b[39;00m\n\u001b[1;32m   (...)\u001b[0m\n\u001b[0;32m     48\u001b[0m \u001b[38;5;66;03m#    result_length=1\u001b[39;00m\n\u001b[0;32m     49\u001b[0m \u001b[38;5;66;03m#)\u001b[39;00m\n",
      "File \u001b[1;32mc:\\Users\\Dejan\\Desktop\\Uni\\3. Semester\\P2\\data-analasys-plotting-tool\\P2\\geraden_fit.py:217\u001b[0m, in \u001b[0;36mgeraden_fit\u001b[1;34m(exp_nr, file_n, title, x_label, y_label, save, length, height, x_axis, y_axis, result_length, x_major_ticks, x_minor_ticks, y_major_ticks, y_minor_ticks, legendlocation, y_labels, y_markers, y_colors, x_decimal_places, y_decimal_places, scientific_limits, Ursprungsgerade, custom_datavol_limiter, linear_fit, focus_point, plot_y_inter, y_inter_label, x_shift, y_shift, plot_errors, size)\u001b[0m\n\u001b[0;32m    214\u001b[0m x_mean_err \u001b[38;5;241m=\u001b[39m np\u001b[38;5;241m.\u001b[39msqrt(np\u001b[38;5;241m.\u001b[39msum(x_err_limited\u001b[38;5;241m*\u001b[39m\u001b[38;5;241m*\u001b[39m\u001b[38;5;241m2\u001b[39m)) \u001b[38;5;241m/\u001b[39m n  \u001b[38;5;66;03m# Fehler des Mittelwerts\u001b[39;00m\n\u001b[0;32m    216\u001b[0m \u001b[38;5;66;03m# Gerundete Werte erhalten\u001b[39;00m\n\u001b[1;32m--> 217\u001b[0m grad_str, grad_err_str \u001b[38;5;241m=\u001b[39m \u001b[43mround_measurement\u001b[49m\u001b[43m(\u001b[49m\u001b[43mgrad\u001b[49m\u001b[43m,\u001b[49m\u001b[43m \u001b[49m\u001b[43mgrad_err\u001b[49m\u001b[43m)\u001b[49m\n\u001b[0;32m    218\u001b[0m y_inter_str, y_inter_err_str \u001b[38;5;241m=\u001b[39m round_measurement(y_inter, y_inter_err)\n\u001b[0;32m    219\u001b[0m x_mean_str, x_mean_err_str \u001b[38;5;241m=\u001b[39m round_measurement(x_mean, x_mean_err)\n",
      "File \u001b[1;32mc:\\Users\\Dejan\\Desktop\\Uni\\3. Semester\\P2\\data-analasys-plotting-tool\\P2\\geraden_fit.py:33\u001b[0m, in \u001b[0;36mround_measurement\u001b[1;34m(value, error)\u001b[0m\n\u001b[0;32m     31\u001b[0m exp_e \u001b[38;5;241m=\u001b[39m err_dec\u001b[38;5;241m.\u001b[39mnormalize()\u001b[38;5;241m.\u001b[39madjusted()\n\u001b[0;32m     32\u001b[0m m \u001b[38;5;241m=\u001b[39m err_dec\u001b[38;5;241m.\u001b[39mscaleb(\u001b[38;5;241m-\u001b[39mexp_e)\n\u001b[1;32m---> 33\u001b[0m first_digit \u001b[38;5;241m=\u001b[39m \u001b[38;5;28;43mint\u001b[39;49m\u001b[43m(\u001b[49m\u001b[43mm\u001b[49m\u001b[38;5;241;43m.\u001b[39;49m\u001b[43mto_integral_value\u001b[49m\u001b[43m(\u001b[49m\u001b[43mrounding\u001b[49m\u001b[38;5;241;43m=\u001b[39;49m\u001b[43mROUND_HALF_UP\u001b[49m\u001b[43m)\u001b[49m\u001b[43m)\u001b[49m\n\u001b[0;32m     34\u001b[0m \u001b[38;5;28;01mif\u001b[39;00m first_digit \u001b[38;5;129;01min\u001b[39;00m [\u001b[38;5;241m1\u001b[39m, \u001b[38;5;241m2\u001b[39m]:\n\u001b[0;32m     35\u001b[0m     significant_digits \u001b[38;5;241m=\u001b[39m \u001b[38;5;241m2\u001b[39m\n",
      "\u001b[1;31mValueError\u001b[0m: cannot convert NaN to integer"
     ]
    },
    {
     "data": {
      "image/png": "[encoded data removed]",
      "text/plain": [
       "<Figure size 1000x700 with 1 Axes>"
      ]
     },
     "metadata": {},
     "output_type": "display_data"
    }
   ],
   "source": [
    "geraden_fit(\n",
    "    exp_nr='',\n",
    "    file_n='3_neu_0.txt',\n",
    "    title=r'Abb. 1: Aufgabe c) $B$ gegen $H$',\n",
    "    y_label=r'$B$ [T]',\n",
    "    x_label=r'$H$ [A/m]',\n",
    "    save=True,\n",
    "    length=10,\n",
    "    height=7,\n",
    "    x_axis=-50,\n",
    "    y_axis=-25,\n",
    "    x_major_ticks=1000,   # Hauptticks alle 10 Einheiten\n",
    "    x_minor_ticks=500,    # Nebenticks alle 1 Einheit\n",
    "    y_major_ticks=250,\n",
    "    y_minor_ticks=125,\n",
    "\tlinear_fit=True,\n",
    "    legendlocation='best',\n",
    "    # y_labels=['$R$'],  # Provide labels for each dataset\n",
    "    # y_markers=['o'],       # Optional: specify markers\n",
    "    y_colors=['blue'], # Optional: specify colors\n",
    "    x_decimal_places=0,\n",
    "    y_decimal_places=1,\n",
    "    plot_errors =  False,\n",
    "    size = 1,\n",
    ")\n",
    "\n",
    "#geraden_fit(\n",
    "#    exp_nr='240',\n",
    "#    file_n='3_neu_0',\n",
    "#    title=r'Bestimmung der spezifischen Elementarladung e/m',\n",
    "#    x_label=r'$U_B$ [V]',\n",
    "#    y_label=r'$(r \\cdot I_S)^2$ [$(m \\cdot A)^2$]',\n",
    "#    save=False,\n",
    "#    length=10,\n",
    "#    height=7,\n",
    "#    x_axis=-50,\n",
    "#    y_axis=-25,\n",
    "#    x_major_ticks=1000,   # Hauptticks alle 10 Einheiten\n",
    "#    x_minor_ticks=500,    # Nebenticks alle 1 Einheit\n",
    "#    y_major_ticks=250,\n",
    "#    y_minor_ticks=125,\n",
    "#    legendlocation='upper left',\n",
    "#    y_labels=['', '$P_W$', r'$P_S * \\cos(\\varphi)$'],  # Provide labels for each dataset\n",
    "#    y_markers=['+'],       # Optional: specify markers\n",
    "#    y_colors=['blue', 'green', 'red'], # Optional: specify colors\n",
    "#    x_decimal_places=0,\n",
    "#    y_decimal_places=4,\n",
    "#    result_length=1\n",
    "#)\n"
   ]
  }
 ],
 "metadata": {
  "kernelspec": {
   "display_name": "Python 3",
   "language": "python",
   "name": "python3"
  },
  "language_info": {
   "codemirror_mode": {
    "name": "ipython",
    "version": 3
   },
   "file_extension": ".py",
   "mimetype": "text/x-python",
   "name": "python",
   "nbconvert_exporter": "python",
   "pygments_lexer": "ipython3",
   "version": "3.12.8"
  }
 },
 "nbformat": 4,
 "nbformat_minor": 2
}
