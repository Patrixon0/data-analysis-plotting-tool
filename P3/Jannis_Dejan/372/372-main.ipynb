{
 "cells": [
  {
   "cell_type": "code",
   "execution_count": 1,
   "metadata": {},
   "outputs": [],
   "source": [
    "import sys\n",
    "import os\n",
    "import sympy as sp\n",
    "import numpy as np\n",
    "\n",
    "# Add the correct path to the P2 folder\n",
    "sys.path.append(os.path.abspath(os.path.join(os.getcwd(), '..', '..')))\n",
    "\n",
    "from gauss_fehlerfortpflanzung import evaluate_gaussian_error\n",
    "from geraden_fit import geraden_fit\n",
    "from scientific_error_rounder import runden_und_speichern\n",
    "from mean_calc_w_err import err_weighted_mean\n",
    "from data_handler import add_column_to_file\n"
   ]
  },
  {
   "cell_type": "code",
   "execution_count": 2,
   "metadata": {},
   "outputs": [
    {
     "name": "stdout",
     "output_type": "stream",
     "text": [
      "sqrt((4*T**3*del_T)**2 + (0)**2 + (0)**2 + (0)**2 + (0)**2 + (-4*T0**3*del_T0)**2)\n",
      "sqrt((0)**2 + (del_U1/3)**2 + (0)**2 + (0)**2 + (0)**2 + (0)**2)\n",
      "sqrt((0)**2 + (0)**2 + (del_U2/3)**2 + (0)**2 + (0)**2 + (0)**2)\n",
      "sqrt((0)**2 + (0)**2 + (0)**2 + (del_U3/3)**2 + (0)**2 + (0)**2)\n",
      "sqrt((0)**2 + (0)**2 + (0)**2 + (0)**2 + (del_U4/4)**2 + (0)**2)\n",
      "Zeile 1: [105322735.0, 148951574.97419316, 0.0, 0.03333333333333333, 0.0, 0.03333333333333333, 1.0, 0.03333333333333333, 0.725, 0.025]\n",
      "Zeile 2: [648064800.0, 152849584.55692095, 0.16666666666666666, 0.03333333333333333, 0.39999999999999997, 0.03333333333333333, 2.6333333333333333, 0.03333333333333333, 1.9, 0.025]\n",
      "Zeile 3: [1218350815.0, 156973225.62821332, 0.26666666666666666, 0.03333333333333333, 0.7000000000000001, 0.03333333333333333, 4.333333333333333, 0.03333333333333333, 3.15, 0.025]\n",
      "Zeile 4: [1817097280.0, 161326408.96852756, 0.5, 0.03333333333333333, 1.0333333333333334, 0.03333333333333333, 6.066666666666666, 0.03333333333333333, 4.525, 0.025]\n",
      "Zeile 5: [3103712560.0, 170735455.1446942, 0.9, 0.03333333333333333, 1.8666666666666665, 0.03333333333333333, 9.666666666666666, 0.03333333333333333, 7.175, 0.025]\n",
      "Zeile 6: [3793489375.0, 175797627.06321302, 1.3333333333333333, 0.03333333333333333, 2.3333333333333335, 0.03333333333333333, 12.233333333333334, 0.03333333333333333, 9.025, 0.025]\n",
      "Zeile 7: [4515542640.0, 181102014.8949734, 1.7333333333333334, 0.03333333333333333, 2.733333333333333, 0.03333333333333333, 14.299999999999999, 0.03333333333333333, 10.45, 0.025]\n",
      "Zeile 8: [6060459520.0, 192447504.60627034, 2.1666666666666665, 0.03333333333333333, 3.8333333333333335, 0.03333333333333333, 18.633333333333333, 0.03333333333333333, 14.025, 0.025]\n",
      "Zeile 9: [7746575200.0, 204790358.15240356, 2.8000000000000003, 0.03333333333333333, 4.8, 0.03333333333333333, 23.233333333333334, 0.03333333333333333, 17.4, 0.025]\n",
      "Zeile 10: [9582241680.0, 218146861.19375408, 3.733333333333333, 0.03333333333333333, 6.0, 0.03333333333333333, 28.599999999999998, 0.03333333333333333, 21.375, 0.025]\n",
      "Auswertung abgeschlossen. Ergebnisse wurden in 'b_daten_korrigiert_results.csv' gespeichert.\n"
     ]
    }
   ],
   "source": [
    "var_names=[T, U1, U2, U3, U4, T0]=sp.symbols('T U1 U2 U3 U4 T0')\n",
    "formula_list=[\n",
    "    T**4- T0**4,\n",
    "    U1/3,\n",
    "    U2/3,\n",
    "    U3/3,\n",
    "    U4/4\n",
    "    ]\n",
    "evaluate_gaussian_error('b_daten_korrigiert.txt',formulas=formula_list, variables=var_names, result_length=20,result_names=['T^4-T0^4', 'Phi/A_sp[W/m^2]', 'Phi/A_ma[W/m^2]', 'Phi/A_we[W/m^2]', 'Phi/A_sw[W/m^2]'])"
   ]
  },
  {
   "cell_type": "code",
   "execution_count": null,
   "metadata": {},
   "outputs": [],
   "source": []
  }
 ],
 "metadata": {
  "kernelspec": {
   "display_name": "Python 3",
   "language": "python",
   "name": "python3"
  },
  "language_info": {
   "codemirror_mode": {
    "name": "ipython",
    "version": 3
   },
   "file_extension": ".py",
   "mimetype": "text/x-python",
   "name": "python",
   "nbconvert_exporter": "python",
   "pygments_lexer": "ipython3",
   "version": "3.13.2"
  }
 },
 "nbformat": 4,
 "nbformat_minor": 2
}
