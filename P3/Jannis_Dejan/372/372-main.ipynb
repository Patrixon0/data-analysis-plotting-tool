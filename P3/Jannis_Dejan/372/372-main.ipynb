{
 "cells": [
  {
   "cell_type": "code",
   "execution_count": 1,
   "metadata": {},
   "outputs": [],
   "source": [
    "import sys\n",
    "import os\n",
    "import sympy as sp\n",
    "import numpy as np\n",
    "\n",
    "# Add the correct path to the P2 folder\n",
    "sys.path.append(os.path.abspath(os.path.join(os.getcwd(), '..', '..')))\n",
    "\n",
    "from gauss_fehlerfortpflanzung import evaluate_gaussian_error\n",
    "from geraden_fit import geraden_fit\n",
    "from scientific_error_rounder import runden_und_speichern\n",
    "from mean_calc_w_err import err_weighted_mean\n",
    "from data_handler import add_column_to_file\n"
   ]
  },
  {
   "cell_type": "code",
   "execution_count": 2,
   "metadata": {},
   "outputs": [
    {
     "name": "stdout",
     "output_type": "stream",
     "text": [
      "sqrt((4*T**3*del_T)**2 + (0)**2 + (0)**2 + (0)**2 + (0)**2 + (-4*T0**3*del_T0)**2)\n",
      "sqrt((0)**2 + (del_U1/3)**2 + (0)**2 + (0)**2 + (0)**2 + (0)**2)\n",
      "sqrt((0)**2 + (0)**2 + (del_U2/3)**2 + (0)**2 + (0)**2 + (0)**2)\n",
      "sqrt((0)**2 + (0)**2 + (0)**2 + (del_U3/3)**2 + (0)**2 + (0)**2)\n",
      "sqrt((0)**2 + (0)**2 + (0)**2 + (0)**2 + (del_U4/4)**2 + (0)**2)\n",
      "Zeile 1: [105322735.0, 148951574.97419316, 0.0, 0.03333333333333333, 0.0, 0.03333333333333333, 1.0, 0.03333333333333333, 0.725, 0.025]\n",
      "Zeile 2: [648064800.0, 152849584.55692095, 0.16666666666666666, 0.03333333333333333, 0.39999999999999997, 0.03333333333333333, 2.6333333333333333, 0.03333333333333333, 1.9, 0.025]\n",
      "Zeile 3: [1218350815.0, 156973225.62821332, 0.26666666666666666, 0.03333333333333333, 0.7000000000000001, 0.03333333333333333, 4.333333333333333, 0.03333333333333333, 3.15, 0.025]\n",
      "Zeile 4: [1817097280.0, 161326408.96852756, 0.5, 0.03333333333333333, 1.0333333333333334, 0.03333333333333333, 6.066666666666666, 0.03333333333333333, 4.525, 0.025]\n",
      "Zeile 5: [3103712560.0, 170735455.1446942, 0.9, 0.03333333333333333, 1.8666666666666665, 0.03333333333333333, 9.666666666666666, 0.03333333333333333, 7.175, 0.025]\n",
      "Zeile 6: [3793489375.0, 175797627.06321302, 1.3333333333333333, 0.03333333333333333, 2.3333333333333335, 0.03333333333333333, 12.233333333333334, 0.03333333333333333, 9.025, 0.025]\n",
      "Zeile 7: [4515542640.0, 181102014.8949734, 1.7333333333333334, 0.03333333333333333, 2.733333333333333, 0.03333333333333333, 14.299999999999999, 0.03333333333333333, 10.45, 0.025]\n",
      "Zeile 8: [6060459520.0, 192447504.60627034, 2.1666666666666665, 0.03333333333333333, 3.8333333333333335, 0.03333333333333333, 18.633333333333333, 0.03333333333333333, 14.025, 0.025]\n",
      "Zeile 9: [7746575200.0, 204790358.15240356, 2.8000000000000003, 0.03333333333333333, 4.8, 0.03333333333333333, 23.233333333333334, 0.03333333333333333, 17.4, 0.025]\n",
      "Zeile 10: [9582241680.0, 218146861.19375408, 3.733333333333333, 0.03333333333333333, 6.0, 0.03333333333333333, 28.599999999999998, 0.03333333333333333, 21.375, 0.025]\n"
     ]
    },
    {
     "ename": "UnicodeEncodeError",
     "evalue": "'charmap' codec can't encode character '\\u03a6' in position 23: character maps to <undefined>",
     "output_type": "error",
     "traceback": [
      "\u001b[1;31m---------------------------------------------------------------------------\u001b[0m",
      "\u001b[1;31mUnicodeEncodeError\u001b[0m                        Traceback (most recent call last)",
      "Cell \u001b[1;32mIn[2], line 9\u001b[0m\n\u001b[0;32m      1\u001b[0m var_names\u001b[38;5;241m=\u001b[39m[T, U1, U2, U3, U4, T0]\u001b[38;5;241m=\u001b[39msp\u001b[38;5;241m.\u001b[39msymbols(\u001b[38;5;124m'\u001b[39m\u001b[38;5;124mT U1 U2 U3 U4 T0\u001b[39m\u001b[38;5;124m'\u001b[39m)\n\u001b[0;32m      2\u001b[0m formula_list\u001b[38;5;241m=\u001b[39m[\n\u001b[0;32m      3\u001b[0m     T\u001b[38;5;241m*\u001b[39m\u001b[38;5;241m*\u001b[39m\u001b[38;5;241m4\u001b[39m\u001b[38;5;241m-\u001b[39m T0\u001b[38;5;241m*\u001b[39m\u001b[38;5;241m*\u001b[39m\u001b[38;5;241m4\u001b[39m,\n\u001b[0;32m      4\u001b[0m     U1\u001b[38;5;241m/\u001b[39m\u001b[38;5;241m3\u001b[39m,\n\u001b[1;32m   (...)\u001b[0m\n\u001b[0;32m      7\u001b[0m     U4\u001b[38;5;241m/\u001b[39m\u001b[38;5;241m4\u001b[39m\n\u001b[0;32m      8\u001b[0m     ]\n\u001b[1;32m----> 9\u001b[0m \u001b[43mevaluate_gaussian_error\u001b[49m\u001b[43m(\u001b[49m\u001b[38;5;124;43m'\u001b[39;49m\u001b[38;5;124;43mb_daten_korrigiert.txt\u001b[39;49m\u001b[38;5;124;43m'\u001b[39;49m\u001b[43m,\u001b[49m\u001b[43mformulas\u001b[49m\u001b[38;5;241;43m=\u001b[39;49m\u001b[43mformula_list\u001b[49m\u001b[43m,\u001b[49m\u001b[43m \u001b[49m\u001b[43mvariables\u001b[49m\u001b[38;5;241;43m=\u001b[39;49m\u001b[43mvar_names\u001b[49m\u001b[43m,\u001b[49m\u001b[43m \u001b[49m\u001b[43mresult_length\u001b[49m\u001b[38;5;241;43m=\u001b[39;49m\u001b[38;5;241;43m20\u001b[39;49m\u001b[43m,\u001b[49m\u001b[43mresult_names\u001b[49m\u001b[38;5;241;43m=\u001b[39;49m\u001b[43m[\u001b[49m\u001b[38;5;124;43m'\u001b[39;49m\u001b[38;5;124;43mT^4-T0^4\u001b[39;49m\u001b[38;5;124;43m'\u001b[39;49m\u001b[43m,\u001b[49m\u001b[43m \u001b[49m\u001b[38;5;124;43m'\u001b[39;49m\u001b[38;5;124;43mΦ/A_sp[W/m^2]\u001b[39;49m\u001b[38;5;124;43m'\u001b[39;49m\u001b[43m,\u001b[49m\u001b[43m \u001b[49m\u001b[38;5;124;43m'\u001b[39;49m\u001b[38;5;124;43mΦ/A_ma[W/m^2]\u001b[39;49m\u001b[38;5;124;43m'\u001b[39;49m\u001b[43m,\u001b[49m\u001b[43m \u001b[49m\u001b[38;5;124;43m'\u001b[39;49m\u001b[38;5;124;43mΦ/A_we[W/m^2]\u001b[39;49m\u001b[38;5;124;43m'\u001b[39;49m\u001b[43m,\u001b[49m\u001b[43m \u001b[49m\u001b[38;5;124;43m'\u001b[39;49m\u001b[38;5;124;43mΦ/A_sw[W/m^2]\u001b[39;49m\u001b[38;5;124;43m'\u001b[39;49m\u001b[43m]\u001b[49m\u001b[43m)\u001b[49m\n",
      "File \u001b[1;32mc:\\Users\\janni\\OneDrive\\Dokumente\\Python\\data-analasys-plotting-tool\\P3\\gauss_fehlerfortpflanzung.py:190\u001b[0m, in \u001b[0;36mevaluate_gaussian_error\u001b[1;34m(file_path, formulas, variables, result_names, result_length, feedback, output_file_suffix)\u001b[0m\n\u001b[0;32m    187\u001b[0m \u001b[38;5;66;03m# Schreibe den Header und die Ergebnisse in die Datei\u001b[39;00m\n\u001b[0;32m    188\u001b[0m \u001b[38;5;28;01mwith\u001b[39;00m \u001b[38;5;28mopen\u001b[39m(output_file_path, \u001b[38;5;124m'\u001b[39m\u001b[38;5;124mw\u001b[39m\u001b[38;5;124m'\u001b[39m) \u001b[38;5;28;01mas\u001b[39;00m f:\n\u001b[0;32m    189\u001b[0m     \u001b[38;5;66;03m# Schreibe den Header\u001b[39;00m\n\u001b[1;32m--> 190\u001b[0m     \u001b[43mf\u001b[49m\u001b[38;5;241;43m.\u001b[39;49m\u001b[43mwrite\u001b[49m\u001b[43m(\u001b[49m\u001b[38;5;124;43mf\u001b[39;49m\u001b[38;5;124;43m\"\u001b[39;49m\u001b[38;5;132;43;01m{\u001b[39;49;00m\u001b[43mheader\u001b[49m\u001b[38;5;132;43;01m}\u001b[39;49;00m\u001b[38;5;130;43;01m\\n\u001b[39;49;00m\u001b[38;5;124;43m\"\u001b[39;49m\u001b[43m)\u001b[49m\n\u001b[0;32m    191\u001b[0m     \u001b[38;5;66;03m# Schreibe die Ergebnisse\u001b[39;00m\n\u001b[0;32m    192\u001b[0m     np\u001b[38;5;241m.\u001b[39msavetxt(f, results, fmt\u001b[38;5;241m=\u001b[39m\u001b[38;5;124mf\u001b[39m\u001b[38;5;124m'\u001b[39m\u001b[38;5;124m%.\u001b[39m\u001b[38;5;132;01m{\u001b[39;00mresult_length\u001b[38;5;132;01m}\u001b[39;00m\u001b[38;5;124mf\u001b[39m\u001b[38;5;124m'\u001b[39m, delimiter\u001b[38;5;241m=\u001b[39m\u001b[38;5;124m'\u001b[39m\u001b[38;5;124m \u001b[39m\u001b[38;5;124m'\u001b[39m)\n",
      "File \u001b[1;32mC:\\Program Files\\WindowsApps\\PythonSoftwareFoundation.Python.3.12_3.12.2544.0_x64__qbz5n2kfra8p0\\Lib\\encodings\\cp1252.py:19\u001b[0m, in \u001b[0;36mIncrementalEncoder.encode\u001b[1;34m(self, input, final)\u001b[0m\n\u001b[0;32m     18\u001b[0m \u001b[38;5;28;01mdef\u001b[39;00m \u001b[38;5;21mencode\u001b[39m(\u001b[38;5;28mself\u001b[39m, \u001b[38;5;28minput\u001b[39m, final\u001b[38;5;241m=\u001b[39m\u001b[38;5;28;01mFalse\u001b[39;00m):\n\u001b[1;32m---> 19\u001b[0m     \u001b[38;5;28;01mreturn\u001b[39;00m \u001b[43mcodecs\u001b[49m\u001b[38;5;241;43m.\u001b[39;49m\u001b[43mcharmap_encode\u001b[49m\u001b[43m(\u001b[49m\u001b[38;5;28;43minput\u001b[39;49m\u001b[43m,\u001b[49m\u001b[38;5;28;43mself\u001b[39;49m\u001b[38;5;241;43m.\u001b[39;49m\u001b[43merrors\u001b[49m\u001b[43m,\u001b[49m\u001b[43mencoding_table\u001b[49m\u001b[43m)\u001b[49m[\u001b[38;5;241m0\u001b[39m]\n",
      "\u001b[1;31mUnicodeEncodeError\u001b[0m: 'charmap' codec can't encode character '\\u03a6' in position 23: character maps to <undefined>"
     ]
    }
   ],
   "source": [
    "var_names=[T, U1, U2, U3, U4, T0]=sp.symbols('T U1 U2 U3 U4 T0')\n",
    "formula_list=[\n",
    "    T**4- T0**4,\n",
    "    U1/3,\n",
    "    U2/3,\n",
    "    U3/3,\n",
    "    U4/4\n",
    "    ]\n",
    "evaluate_gaussian_error('b_daten_korrigiert.txt',formulas=formula_list, variables=var_names, result_length=20,result_names=['T^4-T0^4', 'Φ/A_sp[W/m^2]', 'Φ/A_ma[W/m^2]', 'Φ/A_we[W/m^2]', 'Φ/A_sw[W/m^2]'])"
   ]
  },
  {
   "cell_type": "code",
   "execution_count": null,
   "metadata": {},
   "outputs": [],
   "source": []
  }
 ],
 "metadata": {
  "kernelspec": {
   "display_name": "Python 3",
   "language": "python",
   "name": "python3"
  },
  "language_info": {
   "codemirror_mode": {
    "name": "ipython",
    "version": 3
   },
   "file_extension": ".py",
   "mimetype": "text/x-python",
   "name": "python",
   "nbconvert_exporter": "python",
   "pygments_lexer": "ipython3",
   "version": "3.12.9"
  }
 },
 "nbformat": 4,
 "nbformat_minor": 2
}
