{
 "cells": [
  {
   "cell_type": "code",
   "execution_count": 1,
   "metadata": {},
   "outputs": [],
   "source": [
    "import sys\n",
    "import os\n",
    "import sympy as sp\n",
    "import numpy as np\n",
    "\n",
    "# Add the correct path to the P2 folder\n",
    "sys.path.append(os.path.abspath(os.path.join(os.getcwd(), '..', '..')))\n",
    "\n",
    "from gauss_fehlerfortpflanzung import evaluate_gaussian_error\n",
    "from gauss_fehlerfortpflanzung import gaussian_error_propagation\n",
    "from geraden_fit import geraden_fit\n",
    "from scientific_error_rounder import runden_und_speichern\n",
    "from mean_calc_w_err import err_weighted_mean\n",
    "from data_handler import add_column_to_file"
   ]
  },
  {
   "cell_type": "markdown",
   "metadata": {},
   "source": [
    "_**Messungen am Mikroskop**_"
   ]
  },
  {
   "cell_type": "markdown",
   "metadata": {},
   "source": [
    "**364.a:** Messung von $\\gamma_{obj}$"
   ]
  },
  {
   "cell_type": "code",
   "execution_count": 12,
   "metadata": {},
   "outputs": [
    {
     "name": "stdout",
     "output_type": "stream",
     "text": [
      "Formel: Bz/G\n",
      "Werte: ((Bz, 10, 1), (G, 0.9, 0.05)) \n",
      "\n",
      "Formelwert: 11.1111111111111\n",
      "\n",
      "Fehlerformel: sqrt((del_Bz/G)**2 + (-Bz*del_G/G**2)**2)\n",
      "Fehler: 1.27106544950457 \n",
      "Ergebnis: 11.1111±1.2711\n"
     ]
    }
   ],
   "source": [
    "# x10 Objektiv: B_z=10mm, G=0.9mm\n",
    "var_names=[Bz, G]=sp.symbols('Bz G')\n",
    "formula=Bz/G\n",
    "gaussian_error_propagation(formula, ((Bz,10,1),(G,0.9,0.05)))"
   ]
  },
  {
   "cell_type": "code",
   "execution_count": 13,
   "metadata": {},
   "outputs": [
    {
     "name": "stdout",
     "output_type": "stream",
     "text": [
      "Formel: Bz/G\n",
      "Werte: ((Bz, 10, 1), (G, 0.5, 0.05)) \n",
      "\n",
      "Formelwert: 20.0000000000000\n",
      "\n",
      "Fehlerformel: sqrt((del_Bz/G)**2 + (-Bz*del_G/G**2)**2)\n",
      "Fehler: 2.82842712474619 \n",
      "Ergebnis: 20.0000000000000±2.8284\n"
     ]
    }
   ],
   "source": [
    "# x20 Objektiv: B_z=10mm, G=0.5mm\n",
    "var_names=[Bz, G]=sp.symbols('Bz G')\n",
    "formula=Bz/G\n",
    "gaussian_error_propagation(formula, ((Bz,10,1),(G,0.5,0.05)))"
   ]
  },
  {
   "cell_type": "markdown",
   "metadata": {},
   "source": [
    "Messung des Gesamtabbildungsmaßstabs $\\gamma_M$"
   ]
  },
  {
   "cell_type": "code",
   "execution_count": 24,
   "metadata": {},
   "outputs": [
    {
     "name": "stdout",
     "output_type": "stream",
     "text": [
      "Formel: Bz/G\n",
      "Werte: ((Bz, 10, 1), (G, 0.1, 0.05)) \n",
      "\n",
      "Formelwert: 100.000000000000\n",
      "\n",
      "Fehlerformel: sqrt((del_Bz/G)**2 + (-Bz*del_G/G**2)**2)\n",
      "Fehler: 50.9901951359278 \n",
      "Ergebnis: 100.000000000000±50.9902\n"
     ]
    }
   ],
   "source": [
    "# x10 Okular; x10 Objektiv: B=10mm, G=0.1mm\n",
    "var_names=[B, G]=sp.symbols('Bz G')\n",
    "formula=B/G\n",
    "gaussian_error_propagation(formula, ((Bz,10,1),(G,0.1,0.05)))"
   ]
  },
  {
   "cell_type": "code",
   "execution_count": 15,
   "metadata": {},
   "outputs": [
    {
     "name": "stdout",
     "output_type": "stream",
     "text": [
      "Formel: Bz/G\n",
      "Werte: ((Bz, 9, 1), (G, 0.1, 0.05)) \n",
      "\n",
      "Formelwert: 90.0000000000000\n",
      "\n",
      "Fehlerformel: sqrt((del_Bz/G)**2 + (-Bz*del_G/G**2)**2)\n",
      "Fehler: 46.0977222864644 \n",
      "Ergebnis: 90.0000000000000±46.0977\n"
     ]
    }
   ],
   "source": [
    "# x5 Okular; x20 Objektiv: B=9mm, G=0.1mm\n",
    "var_names=[B, G]=sp.symbols('Bz G')\n",
    "formula=B/G\n",
    "gaussian_error_propagation(formula, ((Bz,9,1),(G,0.1,0.05)))"
   ]
  },
  {
   "cell_type": "markdown",
   "metadata": {},
   "source": [
    "Berechnung der Vergrößerung $V_{oku}$"
   ]
  },
  {
   "cell_type": "code",
   "execution_count": 18,
   "metadata": {},
   "outputs": [
    {
     "name": "stdout",
     "output_type": "stream",
     "text": [
      "Formel: gamma_M*s_0/(b*gamma_obj)\n",
      "Werte: ((gamma_M, 100, 60), (gamma_obj, 11.1, 1.3), (s_0, 25, 0), (b, 21.5, 0.5)) \n",
      "\n",
      "Formelwert: 10.4755918709407\n",
      "\n",
      "Fehlerformel: sqrt((del_gamma_M*s_0/(b*gamma_obj))**2 + (-del_gamma_obj*gamma_M*s_0/(b*gamma_obj**2))**2 + (-del_b*gamma_M*s_0/(b**2*gamma_obj))**2)\n",
      "Fehler: 6.40860762524179 \n",
      "Ergebnis: 10.4756±6.4086\n"
     ]
    }
   ],
   "source": [
    "# x10 Okular; x10 Objektiv: gamma_M=100; gamma_obj=11.1\n",
    "var_names=[gamma_M, gamma_obj, s_0, b]=sp.symbols('gamma_M gamma_obj s_0 b')\n",
    "formula=gamma_M*s_0/(gamma_obj*b)\n",
    "gaussian_error_propagation(formula, ((gamma_M,100,60),(gamma_obj,11.1,1.3),(s_0,25,0),(b,21.5,0.5)))"
   ]
  },
  {
   "cell_type": "code",
   "execution_count": 19,
   "metadata": {},
   "outputs": [
    {
     "name": "stdout",
     "output_type": "stream",
     "text": [
      "Formel: gamma_M*s_0/(b*gamma_obj)\n",
      "Werte: ((gamma_M, 90, 50), (gamma_obj, 20.0, 2.9), (s_0, 25, 0), (b, 21.5, 0.5)) \n",
      "\n",
      "Formelwert: 5.23255813953489\n",
      "\n",
      "Fehlerformel: sqrt((del_gamma_M*s_0/(b*gamma_obj))**2 + (-del_gamma_obj*gamma_M*s_0/(b*gamma_obj**2))**2 + (-del_b*gamma_M*s_0/(b**2*gamma_obj))**2)\n",
      "Fehler: 3.00682208721900 \n",
      "Ergebnis: 5.2326±3.0068\n"
     ]
    }
   ],
   "source": [
    "# 5 Okular; 20 Objektiv: gamma_M=90; gamma_obj=20\n",
    "var_names=[gamma_M, gamma_obj, s_0, b]=sp.symbols('gamma_M gamma_obj s_0 b')\n",
    "formula=gamma_M*s_0/(gamma_obj*b)\n",
    "gaussian_error_propagation(formula, ((gamma_M,90,50),(gamma_obj,20.0,2.9),(s_0,25,0),(b,21.5,0.5)))"
   ]
  },
  {
   "cell_type": "markdown",
   "metadata": {},
   "source": [
    "**364.b:** Brennweite $f$ des x20-Okulars übers Abbe-Verfahren"
   ]
  },
  {
   "cell_type": "code",
   "execution_count": 25,
   "metadata": {},
   "outputs": [
    {
     "name": "stdout",
     "output_type": "stream",
     "text": [
      "Formel: G*dT/(-B1 + B2)\n",
      "Werte: ((G, 0.1, 0), (dT, 60, 0.1), (B1, 9, 1), (B2, 14, 1)) \n",
      "\n",
      "Formelwert: 1.20000000000000\n",
      "\n",
      "Fehlerformel: sqrt((G*del_dT/(-B1 + B2))**2 + (G*dT*del_B1/(-B1 + B2)**2)**2 + (-G*dT*del_B2/(-B1 + B2)**2)**2)\n",
      "Fehler: 0.339417147474903 \n",
      "Ergebnis: 1.2000±0.3394\n"
     ]
    }
   ],
   "source": [
    "# f=G*(T2-T1)/(B2-B1)\n",
    "var_names=[G, dT, B1, B2]=sp.symbols('G dT B1 B2')\n",
    "formula=G*dT/(B2-B1)\n",
    "gaussian_error_propagation(formula, ((G,0.1,0),(dT,60,0.1),(B1,9,1),(B2,14,1)))"
   ]
  }
 ],
 "metadata": {
  "kernelspec": {
   "display_name": "Python 3",
   "language": "python",
   "name": "python3"
  },
  "language_info": {
   "codemirror_mode": {
    "name": "ipython",
    "version": 3
   },
   "file_extension": ".py",
   "mimetype": "text/x-python",
   "name": "python",
   "nbconvert_exporter": "python",
   "pygments_lexer": "ipython3",
   "version": "3.12.9"
  }
 },
 "nbformat": 4,
 "nbformat_minor": 2
}
