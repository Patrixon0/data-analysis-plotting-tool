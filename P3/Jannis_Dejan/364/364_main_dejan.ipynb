{
 "cells": [
  {
   "cell_type": "code",
   "execution_count": 2,
   "metadata": {},
   "outputs": [],
   "source": [
    "import sys\n",
    "import os\n",
    "import sympy as sp\n",
    "import numpy as np\n",
    "\n",
    "# Add the correct path to the P2 folder\n",
    "sys.path.append(os.path.abspath(os.path.join(os.getcwd(), '..', '..')))\n",
    "\n",
    "from gauss_fehlerfortpflanzung import evaluate_gaussian_error\n",
    "from gauss_fehlerfortpflanzung import gaussian_error_propagation\n",
    "from geraden_fit import geraden_fit\n",
    "from scientific_error_rounder import runden_und_speichern\n",
    "from mean_calc_w_err import err_weighted_mean\n",
    "from data_handler import add_column_to_file"
   ]
  },
  {
   "cell_type": "markdown",
   "metadata": {},
   "source": [
    "_**Messungen am Mikroskop**_"
   ]
  },
  {
   "cell_type": "markdown",
   "metadata": {},
   "source": [
    "**364.a:** Messung von $\\gamma_{obj}$"
   ]
  },
  {
   "cell_type": "code",
   "execution_count": 3,
   "metadata": {},
   "outputs": [
    {
     "name": "stdout",
     "output_type": "stream",
     "text": [
      "Formel: Bz/G\n",
      "Werte: ((Bz, 10, 1), (G, 0.9, 0.05)) \n",
      "\n",
      "Formelwert: 11.1111111111111\n",
      "\n",
      "Fehlerformel: sqrt((del_Bz/G)**2 + (-Bz*del_G/G**2)**2)\n",
      "Fehler: 1.27106544950457 \n",
      "Ergebnis: 11.1111±1.2711\n"
     ]
    }
   ],
   "source": [
    "# x10 Objektiv: B_z=10mm, G=0.9mm\n",
    "var_names=[Bz, G]=sp.symbols('Bz G')\n",
    "formula=Bz/G\n",
    "gaussian_error_propagation(formula, ((Bz,10,1),(G,0.9,0.05)))"
   ]
  },
  {
   "cell_type": "code",
   "execution_count": 4,
   "metadata": {},
   "outputs": [
    {
     "name": "stdout",
     "output_type": "stream",
     "text": [
      "Formel: Bz/G\n",
      "Werte: ((Bz, 10, 1), (G, 0.5, 0.05)) \n",
      "\n",
      "Formelwert: 20.0000000000000\n",
      "\n",
      "Fehlerformel: sqrt((del_Bz/G)**2 + (-Bz*del_G/G**2)**2)\n",
      "Fehler: 2.82842712474619 \n",
      "Ergebnis: 20.0000000000000±2.8284\n"
     ]
    }
   ],
   "source": [
    "# x20 Objektiv: B_z=10mm, G=0.5mm\n",
    "var_names=[Bz, G]=sp.symbols('Bz G')\n",
    "formula=Bz/G\n",
    "gaussian_error_propagation(formula, ((Bz,10,1),(G,0.5,0.05)))"
   ]
  },
  {
   "cell_type": "markdown",
   "metadata": {},
   "source": [
    "Messung des Gesamtabbildungsmaßstabs $\\gamma_M$"
   ]
  },
  {
   "cell_type": "code",
   "execution_count": 5,
   "metadata": {},
   "outputs": [
    {
     "name": "stdout",
     "output_type": "stream",
     "text": [
      "Formel: Bz/G\n",
      "Werte: ((Bz, 10, 1), (G, 0.1, 0.05)) \n",
      "\n",
      "Formelwert: 100.000000000000\n",
      "\n",
      "Fehlerformel: sqrt((del_Bz/G)**2 + (-Bz*del_G/G**2)**2)\n",
      "Fehler: 50.9901951359278 \n",
      "Ergebnis: 100.000000000000±50.9902\n"
     ]
    }
   ],
   "source": [
    "# x10 Okular; x10 Objektiv: B=10mm, G=0.1mm\n",
    "var_names=[B, G]=sp.symbols('Bz G')\n",
    "formula=B/G\n",
    "gaussian_error_propagation(formula, ((Bz,10,1),(G,0.1,0.05)))"
   ]
  },
  {
   "cell_type": "code",
   "execution_count": 6,
   "metadata": {},
   "outputs": [
    {
     "name": "stdout",
     "output_type": "stream",
     "text": [
      "Formel: Bz/G\n",
      "Werte: ((Bz, 9, 1), (G, 0.1, 0.05)) \n",
      "\n",
      "Formelwert: 90.0000000000000\n",
      "\n",
      "Fehlerformel: sqrt((del_Bz/G)**2 + (-Bz*del_G/G**2)**2)\n",
      "Fehler: 46.0977222864644 \n",
      "Ergebnis: 90.0000000000000±46.0977\n"
     ]
    }
   ],
   "source": [
    "# x5 Okular; x20 Objektiv: B=9mm, G=0.1mm\n",
    "var_names=[B, G]=sp.symbols('Bz G')\n",
    "formula=B/G\n",
    "gaussian_error_propagation(formula, ((Bz,9,1),(G,0.1,0.05)))"
   ]
  },
  {
   "cell_type": "markdown",
   "metadata": {},
   "source": [
    "Berechnung der Vergrößerung $V_{oku}$"
   ]
  },
  {
   "cell_type": "code",
   "execution_count": 7,
   "metadata": {},
   "outputs": [
    {
     "name": "stdout",
     "output_type": "stream",
     "text": [
      "Formel: gamma_M*s_0/(b*gamma_obj)\n",
      "Werte: ((gamma_M, 100, 60), (gamma_obj, 11.1, 1.3), (s_0, 25, 0), (b, 21.5, 0.5)) \n",
      "\n",
      "Formelwert: 10.4755918709407\n",
      "\n",
      "Fehlerformel: sqrt((del_gamma_M*s_0/(b*gamma_obj))**2 + (-del_gamma_obj*gamma_M*s_0/(b*gamma_obj**2))**2 + (-del_b*gamma_M*s_0/(b**2*gamma_obj))**2)\n",
      "Fehler: 6.40860762524179 \n",
      "Ergebnis: 10.4756±6.4086\n"
     ]
    }
   ],
   "source": [
    "# x10 Okular; x10 Objektiv: gamma_M=100; gamma_obj=11.1\n",
    "var_names=[gamma_M, gamma_obj, s_0, b]=sp.symbols('gamma_M gamma_obj s_0 b')\n",
    "formula=gamma_M*s_0/(gamma_obj*b)\n",
    "gaussian_error_propagation(formula, ((gamma_M,100,60),(gamma_obj,11.1,1.3),(s_0,25,0),(b,21.5,0.5)))"
   ]
  },
  {
   "cell_type": "code",
   "execution_count": 8,
   "metadata": {},
   "outputs": [
    {
     "name": "stdout",
     "output_type": "stream",
     "text": [
      "Formel: gamma_M*s_0/(b*gamma_obj)\n",
      "Werte: ((gamma_M, 90, 50), (gamma_obj, 20.0, 2.9), (s_0, 25, 0), (b, 21.5, 0.5)) \n",
      "\n",
      "Formelwert: 5.23255813953489\n",
      "\n",
      "Fehlerformel: sqrt((del_gamma_M*s_0/(b*gamma_obj))**2 + (-del_gamma_obj*gamma_M*s_0/(b*gamma_obj**2))**2 + (-del_b*gamma_M*s_0/(b**2*gamma_obj))**2)\n",
      "Fehler: 3.00682208721900 \n",
      "Ergebnis: 5.2326±3.0068\n"
     ]
    }
   ],
   "source": [
    "# 5 Okular; 20 Objektiv: gamma_M=90; gamma_obj=20\n",
    "var_names=[gamma_M, gamma_obj, s_0, b]=sp.symbols('gamma_M gamma_obj s_0 b')\n",
    "formula=gamma_M*s_0/(gamma_obj*b)\n",
    "gaussian_error_propagation(formula, ((gamma_M,90,50),(gamma_obj,20.0,2.9),(s_0,25,0),(b,21.5,0.5)))"
   ]
  },
  {
   "cell_type": "markdown",
   "metadata": {},
   "source": [
    "**364.b:** Brennweite $f$ des x20-Okulars übers Abbe-Verfahren"
   ]
  },
  {
   "cell_type": "code",
   "execution_count": 9,
   "metadata": {},
   "outputs": [
    {
     "name": "stdout",
     "output_type": "stream",
     "text": [
      "Formel: G*dT/(-B1 + B2)\n",
      "Werte: ((G, 0.1, 0), (dT, 60, 0.1), (B1, 9, 1), (B2, 14, 1)) \n",
      "\n",
      "Formelwert: 1.20000000000000\n",
      "\n",
      "Fehlerformel: sqrt((G*del_dT/(-B1 + B2))**2 + (G*dT*del_B1/(-B1 + B2)**2)**2 + (-G*dT*del_B2/(-B1 + B2)**2)**2)\n",
      "Fehler: 0.339417147474903 \n",
      "Ergebnis: 1.2000±0.3394\n"
     ]
    }
   ],
   "source": [
    "# f=G*(T2-T1)/(B2-B1)\n",
    "var_names=[G, dT, B1, B2]=sp.symbols('G dT B1 B2')\n",
    "formula=G*dT/(B2-B1)\n",
    "gaussian_error_propagation(formula, ((G,0.1,0),(dT,60,0.1),(B1,9,1),(B2,14,1)))"
   ]
  },
  {
   "cell_type": "markdown",
   "metadata": {},
   "source": [
    "***Messungen am Fernrohr***"
   ]
  },
  {
   "cell_type": "markdown",
   "metadata": {},
   "source": [
    "**364.c:** Astronomisches Fernrohr mit mind. 6-facher Vergrößerung $V_f=\\frac{\\frac{B_Z}{f_{oku}}}{\\frac{B_Z}{f_{obj}}}=\\frac{f_{obj}}{f_{oku}}$ bzw. $V=N/M$"
   ]
  },
  {
   "cell_type": "code",
   "execution_count": 11,
   "metadata": {},
   "outputs": [
    {
     "name": "stdout",
     "output_type": "stream",
     "text": [
      "Formel: N/M\n",
      "Werte: ((N, 100, 0), (M, 13, 1)) \n",
      "\n",
      "Formelwert: 7.69230769230769\n",
      "\n",
      "Fehlerformel: sqrt((-N*del_M/M**2)**2)\n",
      "Fehler: 0.591715976331361 \n",
      "Ergebnis: 7.6923±0.5917\n"
     ]
    }
   ],
   "source": [
    "# Gemessen\n",
    "var_names=[N, M]=sp.symbols('N M')\n",
    "formula=N/M\n",
    "gaussian_error_propagation(formula, ((N,100,0),(M, 13,1)))"
   ]
  },
  {
   "cell_type": "code",
   "execution_count": 19,
   "metadata": {},
   "outputs": [
    {
     "name": "stdout",
     "output_type": "stream",
     "text": [
      "Formel: f_obj/f_oku\n",
      "Werte: ((f_obj, 300, 0), (f_oku, 38, 0)) \n",
      "\n",
      "Formelwert: 7.89473684210526\n",
      "\n",
      "Fehlerformel: sqrt()\n",
      "Fehler: 0 \n",
      "Ergebnis: 7.8947±0\n"
     ]
    }
   ],
   "source": [
    "# Erwartet:\n",
    "var_names=[f_obj, f_oku]=sp.symbols('f_obj f_oku')\n",
    "formula=f_obj/f_oku\n",
    "gaussian_error_propagation(formula, ((f_obj,300,0),(f_oku,38,0)))"
   ]
  },
  {
   "cell_type": "markdown",
   "metadata": {},
   "source": [
    "Am Rand des sichtfeldes tritt starke sphärische Aberation auf, die mit der Vergrößerung zunimmt."
   ]
  },
  {
   "cell_type": "markdown",
   "metadata": {},
   "source": [
    "**364.d:** Andere Okularlinsen"
   ]
  },
  {
   "cell_type": "markdown",
   "metadata": {},
   "source": [
    "$f_{oku}=50,2 \\, mm$"
   ]
  },
  {
   "cell_type": "code",
   "execution_count": 20,
   "metadata": {},
   "outputs": [
    {
     "name": "stdout",
     "output_type": "stream",
     "text": [
      "Formel: N/M\n",
      "Werte: ((N, 100, 0), (M, 16, 1)) \n",
      "\n",
      "Formelwert: 6.25000000000000\n",
      "\n",
      "Fehlerformel: sqrt((-N*del_M/M**2)**2)\n",
      "Fehler: 0.390625000000000 \n",
      "Ergebnis: 6.2500±0.3906\n"
     ]
    }
   ],
   "source": [
    "# Gemessen\n",
    "var_names=[N, M]=sp.symbols('N M')\n",
    "formula=N/M\n",
    "gaussian_error_propagation(formula, ((N,100,0),(M, 16,1)))"
   ]
  },
  {
   "cell_type": "code",
   "execution_count": 21,
   "metadata": {},
   "outputs": [
    {
     "name": "stdout",
     "output_type": "stream",
     "text": [
      "Formel: f_obj/f_oku\n",
      "Werte: ((f_obj, 300, 0), (f_oku, 50.2, 0)) \n",
      "\n",
      "Formelwert: 5.97609561752988\n",
      "\n",
      "Fehlerformel: sqrt()\n",
      "Fehler: 0 \n",
      "Ergebnis: 5.9761±0\n"
     ]
    }
   ],
   "source": [
    "# Erwartet:\n",
    "var_names=[f_obj, f_oku]=sp.symbols('f_obj f_oku')\n",
    "formula=f_obj/f_oku\n",
    "gaussian_error_propagation(formula, ((f_obj,300,0),(f_oku,50.2,0)))"
   ]
  },
  {
   "cell_type": "markdown",
   "metadata": {},
   "source": [
    "$f_{oku}=12,7 \\, mm$"
   ]
  },
  {
   "cell_type": "code",
   "execution_count": 24,
   "metadata": {},
   "outputs": [
    {
     "name": "stdout",
     "output_type": "stream",
     "text": [
      "Formel: N/M\n",
      "Werte: ((N, 100, 0), (M, 6, 2)) \n",
      "\n",
      "Formelwert: 16.6666666666667\n",
      "\n",
      "Fehlerformel: sqrt((-N*del_M/M**2)**2)\n",
      "Fehler: 5.55555555555556 \n",
      "Ergebnis: 16.6667±5.5556\n"
     ]
    }
   ],
   "source": [
    "# Gemessen\n",
    "var_names=[N, M]=sp.symbols('N M')\n",
    "formula=N/M\n",
    "gaussian_error_propagation(formula, ((N,100,0),(M, 6,2)))"
   ]
  },
  {
   "cell_type": "code",
   "execution_count": 23,
   "metadata": {},
   "outputs": [
    {
     "name": "stdout",
     "output_type": "stream",
     "text": [
      "Formel: f_obj/f_oku\n",
      "Werte: ((f_obj, 300, 0), (f_oku, 12.7, 0)) \n",
      "\n",
      "Formelwert: 23.6220472440945\n",
      "\n",
      "Fehlerformel: sqrt()\n",
      "Fehler: 0 \n",
      "Ergebnis: 23.6220±0\n"
     ]
    }
   ],
   "source": [
    "# Erwartet:\n",
    "var_names=[f_obj, f_oku]=sp.symbols('f_obj f_oku')\n",
    "formula=f_obj/f_oku\n",
    "gaussian_error_propagation(formula, ((f_obj,300,0),(f_oku,12.7,0)))"
   ]
  },
  {
   "cell_type": "markdown",
   "metadata": {},
   "source": [
    "**364.e:** Terrestrisches Fernrohr mit $f_{oku}=38 \\, mm$ und $f_{Dreh}=12.7 \\, mm$"
   ]
  },
  {
   "cell_type": "code",
   "execution_count": 29,
   "metadata": {},
   "outputs": [
    {
     "name": "stdout",
     "output_type": "stream",
     "text": [
      "Formel: N/M\n",
      "Werte: ((N, 21, 1), (M, 3, 0.5)) \n",
      "\n",
      "Formelwert: 7.00000000000000\n",
      "\n",
      "Fehlerformel: sqrt((del_N/M)**2 + (-N*del_M/M**2)**2)\n",
      "Fehler: 1.21335164821342 \n",
      "Ergebnis: 7.00000000000000±1.2134\n"
     ]
    }
   ],
   "source": [
    "# Gemessen\n",
    "var_names=[N, M]=sp.symbols('N M')\n",
    "formula=N/M\n",
    "gaussian_error_propagation(formula, ((N,21,1),(M,3,0.5)))"
   ]
  },
  {
   "cell_type": "markdown",
   "metadata": {},
   "source": [
    "**364.f:** Gallileisches Fernrohr mit $f_{oku}=-12.5 \\, mm$"
   ]
  },
  {
   "cell_type": "code",
   "execution_count": 30,
   "metadata": {},
   "outputs": [
    {
     "name": "stdout",
     "output_type": "stream",
     "text": [
      "Formel: N/M\n",
      "Werte: ((N, 70, 10), (M, 5, 1)) \n",
      "\n",
      "Formelwert: 14.0000000000000\n",
      "\n",
      "Fehlerformel: sqrt((del_N/M)**2 + (-N*del_M/M**2)**2)\n",
      "Fehler: 3.44093010681705 \n",
      "Ergebnis: 14.0000000000000±3.4409\n"
     ]
    }
   ],
   "source": [
    "# Gemessen\n",
    "var_names=[N, M]=sp.symbols('N M')\n",
    "formula=N/M\n",
    "gaussian_error_propagation(formula, ((N,70,10),(M, 5,1)))"
   ]
  },
  {
   "cell_type": "code",
   "execution_count": 33,
   "metadata": {},
   "outputs": [
    {
     "name": "stdout",
     "output_type": "stream",
     "text": [
      "Formel: f_obj/f_oku\n",
      "Werte: ((f_obj, 300, 0), (f_oku, -12.5, 0)) \n",
      "\n",
      "Formelwert: -24.0000000000000\n",
      "\n",
      "Fehlerformel: sqrt()\n",
      "Fehler: 0 \n",
      "Ergebnis: -24.0000000000000±0\n"
     ]
    }
   ],
   "source": [
    "# Erwartet:\n",
    "var_names=[f_obj, f_oku]=sp.symbols('f_obj f_oku')\n",
    "formula=f_obj/f_oku\n",
    "gaussian_error_propagation(formula, ((f_obj,300,0),(f_oku,-12.5,0)))"
   ]
  },
  {
   "cell_type": "markdown",
   "metadata": {},
   "source": [
    "***Messung des Auflösungsvermögens von Linsen***"
   ]
  },
  {
   "cell_type": "markdown",
   "metadata": {},
   "source": [
    "**364.f:** Bestätigung des kleinsten auflösbaren Sehwinkels nach dem Rayleigh-Kriterium"
   ]
  },
  {
   "cell_type": "code",
   "execution_count": 40,
   "metadata": {},
   "outputs": [
    {
     "name": "stdout",
     "output_type": "stream",
     "text": [
      "sqrt((del_DB)**2 + (0)**2 + (0)**2 + (0)**2)\n",
      "sqrt((0)**2 + (-1.69014084507042*del_xl)**2 + (0)**2 + (0)**2)\n",
      "Zeile 1: [3.0, 0.0, 0.0, 1.69014]\n",
      "Zeile 2: [2.0, 0.0, 20.28169, 1.69014]\n",
      "Zeile 3: [1.0, 0.0, 36.33803, 1.69014]\n",
      "Zeile 4: [0.6, 0.0, 76.05634, 1.69014]\n",
      "Zeile 5: [0.3, 0.0, 180.0, 1.69014]\n",
      "Auswertung abgeschlossen. Ergebnisse wurden in 'g_mess_results.csv' gespeichert.\n"
     ]
    }
   ],
   "source": [
    "# Die Skalenmitte (also 90°) waren bei uns 106.5 skt. Dementsprechend müssen zunächst Skalenteile in Grad bzw. danach in Sehwinkel umgerechnet werden.\n",
    "mid=106.5\n",
    "var_names=[DB, xl, E, DS]=sp.symbols('DB xl E DS')\n",
    "formula_list=[\n",
    "    DB,\n",
    "\t2*(90*(mid-xl)/mid)\n",
    "    ]\n",
    "evaluate_gaussian_error('g_mess.csv',formulas=formula_list, variables=var_names, result_length=5,result_names=['D_B [mm]','alpha [°]'])"
   ]
  },
  {
   "cell_type": "code",
   "execution_count": 43,
   "metadata": {},
   "outputs": [
    {
     "name": "stdout",
     "output_type": "stream",
     "text": [
      "sqrt((-del_DB/DB**2)**2 + (0)**2)\n",
      "sqrt((0)**2 + (del_alpha)**2)\n",
      "Zeile 1: [0.33333, 0.0, 0.0, 1.69014]\n",
      "Zeile 2: [0.5, 0.0, 20.28169, 1.69014]\n",
      "Zeile 3: [1.0, 0.0, 36.33803, 1.69014]\n",
      "Zeile 4: [1.66667, 0.0, 76.05634, 1.69014]\n",
      "Zeile 5: [3.33333, 0.0, 180.0, 1.69014]\n",
      "Auswertung abgeschlossen. Ergebnisse wurden in 'g_mess_results_plot.csv' gespeichert.\n"
     ]
    }
   ],
   "source": [
    "# Es muss nun 1/D_B für den Plot bestimmt werden\n",
    "var_names=[DB, alpha]=sp.symbols('DB alpha')\n",
    "formula_list=[\n",
    "    1/DB,\n",
    "\talpha\n",
    "    ]\n",
    "evaluate_gaussian_error('g_mess_results.csv',formulas=formula_list, variables=var_names, result_length=5,result_names=['1/D_B [1/mm]','alpha [°]'], output_file_suffix='plot')"
   ]
  },
  {
   "cell_type": "code",
   "execution_count": 45,
   "metadata": {},
   "outputs": [
    {
     "name": "stdout",
     "output_type": "stream",
     "text": [
      "58.5195567382205 58.519556738220494\n",
      "Fit-Ergebnisse für 1:\n",
      "Schwerpunkt: (1.36666600 ± 0.00000010, 62.5 ± 1.7)\n",
      "Steigung: 58.5 ± 0.7\n",
      "Y-Achsenabschnitt: -17.4 ± 1.2\n",
      "\n"
     ]
    },
    {
     "data": {
      "image/png": "[encoded data removed]",
      "text/plain": [
       "<Figure size 1000x500 with 1 Axes>"
      ]
     },
     "metadata": {},
     "output_type": "display_data"
    }
   ],
   "source": [
    "geraden_fit('g_mess_results_plot.csv', title='Rayleigh-Kriterium', x_label=r'$1/D_{Blende}$ [1/mm]', y_label=r'$\\alpha$ [°]',\n",
    "\t\t\tsave=False, linear_fit=True, focus_point=True, plot_y_inter=True)"
   ]
  }
 ],
 "metadata": {
  "kernelspec": {
   "display_name": "Python 3",
   "language": "python",
   "name": "python3"
  },
  "language_info": {
   "codemirror_mode": {
    "name": "ipython",
    "version": 3
   },
   "file_extension": ".py",
   "mimetype": "text/x-python",
   "name": "python",
   "nbconvert_exporter": "python",
   "pygments_lexer": "ipython3",
   "version": "3.12.9"
  }
 },
 "nbformat": 4,
 "nbformat_minor": 2
}
