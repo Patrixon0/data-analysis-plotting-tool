{
 "cells": [
  {
   "cell_type": "markdown",
   "metadata": {},
   "source": [
    "**<H1>Versuch 368: Beugung und Interferenz</H1>**"
   ]
  },
  {
   "cell_type": "code",
   "execution_count": 20,
   "metadata": {},
   "outputs": [],
   "source": [
    "import sys\n",
    "import os\n",
    "import sympy as sp\n",
    "import numpy as np\n",
    "import pandas as pd\n",
    "\n",
    "sys.path.append(os.path.abspath(os.path.join(os.getcwd(), '..', '..', '..')))\n",
    "import setup_paths\n",
    "\n",
    "\n",
    "\n",
    "\n",
    "from scientific_error_rounder import runden_und_speichern\n",
    "from gauss_fehlerfortpflanzung import evaluate_gaussian_error\n",
    "from gauss_fehlerfortpflanzung import gaussian_error_propagation\n",
    "from geraden_fit import geraden_fit\n",
    "from mean_calc_w_err import err_weighted_mean\n",
    "from tabelle import tabellen_ersteller\n",
    "from geraden_fit_config import config_1"
   ]
  },
  {
   "cell_type": "markdown",
   "metadata": {},
   "source": [
    "<H2>Versuchsteil 2: Gitter</H2>\n",
    "\n",
    "**<H4>366.d:** Bestimmung der Gitterkonstante anhand der grünen Spektrallinie</H4>"
   ]
  },
  {
   "cell_type": "code",
   "execution_count": 24,
   "metadata": {},
   "outputs": [
    {
     "name": "stdout",
     "output_type": "stream",
     "text": [
      "sqrt((del_m)**2 + (0)**2 + (0)**2 + (0)**2)\n",
      "sqrt((0)**2 + (-del_alpha_r/2)**2 + (del_alpha_l/2)**2 + (0)**2)\n",
      "Zeile 1: [1.0, 0.0, 0.0543, 0.0003535534]\n",
      "Zeile 2: [2.0, 0.0, 0.10895, 0.0003535534]\n",
      "Zeile 3: [3.0, 0.0, 0.1637, 0.0003535534]\n",
      "Zeile 4: [4.0, 0.0, 0.2188, 0.0003535534]\n",
      "Zeile 5: [5.0, 0.0, 0.2745, 0.0003535534]\n",
      "Zeile 6: [6.0, 0.0, 0.331, 0.0003535534]\n",
      "Zeile 7: [7.0, 0.0, 0.3887, 0.0007071068]\n",
      "Zeile 8: [8.0, 0.0, 0.4477, 0.0007071068]\n",
      "Zeile 9: [9.0, 0.0, 0.5085, 0.0014142136]\n",
      "Auswertung abgeschlossen. Ergebnisse wurden in 'd_mess_phi.csv' gespeichert.\n"
     ]
    }
   ],
   "source": [
    "# Es muss nun 1/D_B für den Plot bestimmt werden\n",
    "var_names=[m, alpha_r, alpha_l, r]=sp.symbols('m alpha_r alpha_l r')\n",
    "formula_list=[\n",
    "\tm,\n",
    "    (alpha_l-alpha_r)/2\n",
    "    ]\n",
    "evaluate_gaussian_error('d_mess.csv',formulas=formula_list, variables=var_names, result_length=10,result_names=['m', 'phi [rad]'], output_file_suffix='phi')"
   ]
  },
  {
   "cell_type": "markdown",
   "metadata": {},
   "source": [
    "Es gilt:\n",
    "\n",
    "$m \\cdot \\lambda = 2g \\cdot \\sin(\\frac{\\varphi_m}{2}) ~ \\Leftrightarrow ~ g_m=\\frac{m\\cdot \\lambda}{2\\cdot \\sin(\\frac{\\varphi_m}{2})}$\n",
    "\n",
    "Für das grüne Licht der Wellenlänge $\\lambda=546,07 \\, nm$ folgt:"
   ]
  },
  {
   "cell_type": "code",
   "execution_count": 25,
   "metadata": {},
   "outputs": [
    {
     "name": "stdout",
     "output_type": "stream",
     "text": [
      "sqrt((del_m)**2 + (0)**2)\n",
      "sqrt((0)**2 + (del_phi)**2)\n",
      "sqrt((2.73035e-7*del_m/sin(phi/2))**2 + (-1.365175e-7*del_phi*m*cos(phi/2)/sin(phi/2)**2)**2)\n",
      "Zeile 1: [1.0, 0.0, 0.0543, 0.0003535534, 1.00578e-05, 6.55e-08]\n",
      "Zeile 2: [2.0, 0.0, 0.10895, 0.0003535534, 1.00292e-05, 3.25e-08]\n",
      "Zeile 3: [3.0, 0.0, 0.1637, 0.0003535534, 1.00186e-05, 2.16e-08]\n",
      "Zeile 4: [4.0, 0.0, 0.2188, 0.0003535534, 1.00029e-05, 1.61e-08]\n",
      "Zeile 5: [5.0, 0.0, 0.2745, 0.0003535534, 9.9779e-06, 1.28e-08]\n",
      "Zeile 6: [6.0, 0.0, 0.331, 0.0003535534, 9.9439e-06, 1.05e-08]\n",
      "Zeile 7: [7.0, 0.0, 0.3887, 0.0007071068, 9.8962e-06, 1.78e-08]\n",
      "Zeile 8: [8.0, 0.0, 0.4477, 0.0007071068, 9.8398e-06, 1.53e-08]\n",
      "Zeile 9: [9.0, 0.0, 0.5085, 0.0014142136, 9.7699e-06, 2.66e-08]\n",
      "Auswertung abgeschlossen. Ergebnisse wurden in 'd_mess_phi_g.csv' gespeichert.\n",
      "Die gerundeten Daten wurden in der CSV-Datei \"d_mess_phi_g_rounded.csv\" gespeichert.\n"
     ]
    }
   ],
   "source": [
    "# Es muss nun 1/D_B für den Plot bestimmt werden\n",
    "lamb=546.07e-9\n",
    "var_names=[m, phi]=sp.symbols('m phi')\n",
    "formula_list=[\n",
    "\tm,\n",
    "    phi,\n",
    "\tm*lamb/(2*sp.sin(phi/2))\n",
    "    ]\n",
    "evaluate_gaussian_error('d_mess_phi.csv',formulas=formula_list, variables=var_names, result_length=10,result_names=['m', 'phi [rad]', 'g_m [m]'], output_file_suffix='g')\n",
    "runden_und_speichern('d_mess_phi_g.csv')"
   ]
  },
  {
   "cell_type": "code",
   "execution_count": 26,
   "metadata": {},
   "outputs": [
    {
     "data": {
      "text/plain": [
       "(9.9407e-06, 5.8e-09)"
      ]
     },
     "execution_count": 26,
     "metadata": {},
     "output_type": "execute_result"
    }
   ],
   "source": [
    "err_weighted_mean('d_mess_phi_g_rounded.txt', value_col=4, error_col=5, result_length=10)"
   ]
  },
  {
   "cell_type": "markdown",
   "metadata": {},
   "source": [
    "Die Gitterkonstante für die grüne Spektrallinie ($\\lambda=546,07 \\, nm$) wurde auf $g \\pm \\Delta g \\approx (9941 \\pm 6) \\cdot 10^{-9} \\, m= (9.941 \\pm 0.006) \\, \\mu m$ bestimmt."
   ]
  },
  {
   "cell_type": "markdown",
   "metadata": {},
   "source": [
    "**<H4>366.e:** Bestimmung der Wellenlänge der blauen Spektrallinie</H4>"
   ]
  },
  {
   "cell_type": "code",
   "execution_count": null,
   "metadata": {},
   "outputs": [
    {
     "name": "stdout",
     "output_type": "stream",
     "text": [
      "sqrt((del_m)**2 + (0)**2 + (0)**2 + (0)**2)\n",
      "sqrt((0)**2 + (-del_alpha_r/2)**2 + (del_alpha_l/2)**2 + (0)**2)\n",
      "sqrt((0)**2 + (0)**2 + (0)**2 + (del_g)**2)\n",
      "Zeile 1: [1.0, 0.0, 0.04355, 0.0003535534, 9.941e-06, 6e-09]\n",
      "Zeile 2: [2.0, 0.0, 0.08695, 0.0003535534, 9.941e-06, 6e-09]\n",
      "Zeile 3: [3.0, 0.0, 0.1308, 0.0003535534, 9.941e-06, 6e-09]\n",
      "Zeile 4: [4.0, 0.0, 0.1746, 0.0003535534, 9.941e-06, 6e-09]\n",
      "Zeile 5: [5.0, 0.0, 0.2191, 0.0003535534, 9.941e-06, 6e-09]\n",
      "Zeile 6: [6.0, 0.0, 0.2637, 0.0003535534, 9.941e-06, 6e-09]\n",
      "Zeile 7: [7.0, 0.0, 0.309, 0.0007071068, 9.941e-06, 6e-09]\n",
      "Zeile 8: [8.0, 0.0, 0.35505, 0.0007071068, 9.941e-06, 6e-09]\n",
      "Zeile 9: [9.0, 0.0, 0.40165, 0.0007071068, 9.941e-06, 6e-09]\n",
      "Zeile 10: [10.0, 0.0, 0.44975, 0.0014142136, 9.941e-06, 6e-09]\n",
      "Zeile 11: [11.0, 0.0, 0.49815, 0.0014142136, 9.941e-06, 6e-09]\n",
      "Auswertung abgeschlossen. Ergebnisse wurden in 'e_mess_phi.csv' gespeichert.\n"
     ]
    }
   ],
   "source": [
    "# Es muss nun 1/D_B für den Plot bestimmt werden\n",
    "var_names=[m, alpha_r, alpha_l, g]=sp.symbols('m alpha_r alpha_l g')\n",
    "formula_list=[\n",
    "\tm,\n",
    "    (alpha_l-alpha_r)/2,\n",
    "\tg\n",
    "    ]\n",
    "evaluate_gaussian_error('e_mess.csv',formulas=formula_list, variables=var_names, result_length=10,result_names=['m', 'phi [rad]', 'g [m]'], output_file_suffix='phi')"
   ]
  },
  {
   "cell_type": "markdown",
   "metadata": {},
   "source": [
    "Nun gilt:\n",
    "\n",
    "$m \\cdot \\lambda = 2g \\cdot \\sin(\\frac{\\varphi_m}{2}) ~ \\Leftrightarrow ~ \\lambda_m=\\frac{2g \\cdot \\sin(\\frac{\\varphi_m}{2})}{m}$\n",
    "\n",
    "Mit der berechneten Gitterkonstante $g \\pm \\Delta g \\approx (9.941 \\pm 0.006) \\, \\mu m$ folgt:"
   ]
  },
  {
   "cell_type": "code",
   "execution_count": 30,
   "metadata": {},
   "outputs": [
    {
     "name": "stdout",
     "output_type": "stream",
     "text": [
      "sqrt((del_m)**2 + (0)**2 + (0)**2)\n",
      "sqrt((0)**2 + (del_phi)**2 + (0)**2)\n",
      "sqrt((-2*del_m*g*sin(phi/2)/m**2)**2 + (del_phi*g*cos(phi/2)/m)**2 + (2*del_g*sin(phi/2)/m)**2)\n",
      "Zeile 1: [1.0, 0.0, 0.04355, 0.0003535534, 4.329e-07, 3.5e-09]\n",
      "Zeile 2: [2.0, 0.0, 0.08695, 0.0003535534, 4.32e-07, 1.8e-09]\n",
      "Zeile 3: [3.0, 0.0, 0.1308, 0.0003535534, 4.331e-07, 1.2e-09]\n",
      "Zeile 4: [4.0, 0.0, 0.1746, 0.0003535534, 4.334e-07, 9e-10]\n",
      "Zeile 5: [5.0, 0.0, 0.2191, 0.0003535534, 4.347e-07, 7e-10]\n",
      "Zeile 6: [6.0, 0.0, 0.2637, 0.0003535534, 4.356e-07, 6e-10]\n",
      "Zeile 7: [7.0, 0.0, 0.309, 0.0007071068, 4.371e-07, 1e-09]\n",
      "Zeile 8: [8.0, 0.0, 0.35505, 0.0007071068, 4.389e-07, 9e-10]\n",
      "Zeile 9: [9.0, 0.0, 0.40165, 0.0007071068, 4.407e-07, 8e-10]\n",
      "Zeile 10: [10.0, 0.0, 0.44975, 0.0014142136, 4.433e-07, 1.4e-09]\n",
      "Zeile 11: [11.0, 0.0, 0.49815, 0.0014142136, 4.456e-07, 1.3e-09]\n",
      "Auswertung abgeschlossen. Ergebnisse wurden in 'e_mess_phi_lambda.csv' gespeichert.\n",
      "Die gerundeten Daten wurden in der CSV-Datei \"e_mess_phi_lambda_rounded.csv\" gespeichert.\n"
     ]
    }
   ],
   "source": [
    "# Es muss nun 1/D_B für den Plot bestimmt werden\n",
    "lamb=546.07e-9\n",
    "var_names=[m, phi, g]=sp.symbols('m phi g')\n",
    "formula_list=[\n",
    "\tm,\n",
    "    phi,\n",
    "\t2*g*sp.sin(phi/2)/m\n",
    "    ]\n",
    "evaluate_gaussian_error('e_mess_phi.csv',formulas=formula_list, variables=var_names, result_length=10,result_names=['m', 'phi [rad]', 'lambda [m]'], output_file_suffix='lambda')\n",
    "runden_und_speichern('e_mess_phi_lambda.csv')"
   ]
  },
  {
   "cell_type": "code",
   "execution_count": 33,
   "metadata": {},
   "outputs": [
    {
     "data": {
      "text/plain": [
       "(4.3692e-07, 2.9e-10)"
      ]
     },
     "execution_count": 33,
     "metadata": {},
     "output_type": "execute_result"
    }
   ],
   "source": [
    "err_weighted_mean('e_mess_phi_lambda_rounded.txt', value_col=4, error_col=5, result_length=11)"
   ]
  },
  {
   "cell_type": "markdown",
   "metadata": {},
   "source": [
    "Die Wellenlänge der blauen Spektrallinie wurde auf $\\lambda \\pm \\Delta \\lambda \\approx (4.3692 \\pm 0.0030) \\cdot 10^{-7} \\, m= (436.92 \\pm 0.30) \\,  nm$ bestimmt."
   ]
  },
  {
   "cell_type": "markdown",
   "metadata": {},
   "source": [
    "**<H4>366.f:** Nachweis der Auflösungsvermögen-Ordnung-Strichzahl-Beziehung</H4>\n",
    "\n",
    "$A=\\lambda/\\Delta \\lambda = m \\cdot N$"
   ]
  },
  {
   "cell_type": "code",
   "execution_count": 47,
   "metadata": {},
   "outputs": [
    {
     "name": "stdout",
     "output_type": "stream",
     "text": [
      "Das Auflösungsvermögen liegt bei A=275.243\n"
     ]
    }
   ],
   "source": [
    "# Bestimmung des Auflösungsvermögen\n",
    "lam, dlam=578.01e-9, 2.1e-9\n",
    "\n",
    "A=lam/dlam\n",
    "\n",
    "print(f'Das Auflösungsvermögen liegt bei A={round(A,3)}')"
   ]
  },
  {
   "cell_type": "markdown",
   "metadata": {},
   "source": [
    "Für die Spaltzahl gilt nun $N=\\left \\lfloor \\frac{G}{g} \\right \\rfloor$, wobei $g$ die Gitterkonstante ist (nicht mit der Gegenstandsseite zu verwechseln!)\n",
    "\n",
    "Hierbei berechnet sich die Gegenstandsgröße durch $ ~~ \\frac{b}{g}=\\frac{B}{G} ~ \\Leftrightarrow ~ G = B\\cdot \\frac{g}{b}$"
   ]
  },
  {
   "cell_type": "code",
   "execution_count": 52,
   "metadata": {},
   "outputs": [
    {
     "name": "stdout",
     "output_type": "stream",
     "text": [
      "sqrt((del_m)**2 + (0)**2 + (0)**2 + (0)**2 + (0)**2)\n",
      "sqrt((0)**2 + (del_b)**2 + (0)**2 + (0)**2 + (0)**2)\n",
      "sqrt((0)**2 + (0)**2 + (del_g_geg)**2 + (0)**2 + (0)**2)\n",
      "sqrt((0)**2 + (0)**2 + (0)**2 + (del_B)**2 + (0)**2)\n",
      "sqrt((0)**2 + (0)**2 + (0)**2 + (0)**2 + (del_g_git)**2)\n",
      "sqrt((0)**2 + (-B*del_b*g_geg/b**2)**2 + (B*del_g_geg/b)**2 + (del_B*g_geg/b)**2 + (0)**2)\n",
      "Zeile 1: [2.0, 0.0, 247.7, 3.0, 9.6, 1.0, 2.3, 0.3, 0.00099407, 5.8e-07, 0.0891400888, 0.0149188165]\n",
      "Zeile 2: [4.0, 0.0, 247.7, 3.0, 9.6, 1.0, 1.0, 0.2, 0.00099407, 5.8e-07, 0.0387565604, 0.0087522389]\n",
      "Zeile 3: [7.0, 0.0, 247.7, 3.0, 9.6, 1.0, 0.4, 0.15, 0.00099407, 5.8e-07, 0.0155026241, 0.0060365232]\n",
      "Auswertung abgeschlossen. Ergebnisse wurden in 'f_mess_G.csv' gespeichert.\n",
      "Die gerundeten Daten wurden in der CSV-Datei \"f_mess_G_rounded.csv\" gespeichert.\n"
     ]
    }
   ],
   "source": [
    "var_names=[m, b, g_geg, B, g_git]=sp.symbols('m b g_geg B g_git')\n",
    "formula_list=[\n",
    "\tm, b, g_geg, B, g_git,\n",
    "\tB*g_geg/b\n",
    "    ]\n",
    "evaluate_gaussian_error('f_mess.csv',formulas=formula_list, variables=var_names, result_length=10,result_names=['m', 'b[cm]', 'g_geg[cm]', 'B[cm]', 'g_git [cm]', 'G [cm]'], output_file_suffix='G')\n",
    "runden_und_speichern('f_mess_G.csv')"
   ]
  },
  {
   "cell_type": "code",
   "execution_count": 61,
   "metadata": {},
   "outputs": [
    {
     "name": "stdout",
     "output_type": "stream",
     "text": [
      "sqrt((del_m)**2 + (0)**2 + (0)**2 + (0)**2 + (0)**2 + (0)**2)\n",
      "sqrt((0)**2 + (del_b)**2 + (0)**2 + (0)**2 + (0)**2 + (0)**2)\n",
      "sqrt((0)**2 + (0)**2 + (del_g_geg)**2 + (0)**2 + (0)**2 + (0)**2)\n",
      "sqrt((0)**2 + (0)**2 + (0)**2 + (del_B)**2 + (0)**2 + (0)**2)\n",
      "sqrt((0)**2 + (0)**2 + (0)**2 + (0)**2 + (del_g_git)**2 + (0)**2)\n",
      "sqrt((0)**2 + (0)**2 + (0)**2 + (0)**2 + (0)**2 + (del_G)**2)\n",
      "sqrt((0)**2 + (0)**2 + (0)**2 + (0)**2 + (-G*del_g_git/g_git**2)**2 + (del_G/g_git)**2)\n",
      "Zeile 1: [2.0, 0.0, 247.7, 3.0, 9.6, 1.0, 2.3, 0.3, 0.00099407, 5.8e-07, 0.0891400888, 0.0149188165, 89.671842828, 15.0079040281]\n",
      "Zeile 2: [4.0, 0.0, 247.7, 3.0, 9.6, 1.0, 1.0, 0.2, 0.00099407, 5.8e-07, 0.0387565604, 0.0087522389, 38.9877578038, 8.8044786706]\n",
      "Zeile 3: [7.0, 0.0, 247.7, 3.0, 9.6, 1.0, 0.4, 0.15, 0.00099407, 5.8e-07, 0.0155026241, 0.0060365232, 15.5951030612, 6.0725401397]\n",
      "Auswertung abgeschlossen. Ergebnisse wurden in 'f_mess_G_N.csv' gespeichert.\n",
      "Die gerundeten Daten wurden in der CSV-Datei \"f_mess_G_N_rounded.csv\" gespeichert.\n"
     ]
    }
   ],
   "source": [
    "var_names=[m, b, g_geg, B, g_git, G]=sp.symbols('m b g_geg B g_git G')\n",
    "formula_list=[\n",
    "\tm, b, g_geg, B, g_git, G,\n",
    "\tG/g_git\n",
    "    ]\n",
    "evaluate_gaussian_error('f_mess_G.csv',formulas=formula_list, variables=var_names, result_length=10,result_names=['m', 'b[cm]', 'g_geg[cm]', 'B[cm]', 'g_git [cm]', 'G [cm]', 'N_over'], output_file_suffix='N')\n",
    "runden_und_speichern('f_mess_G_N.csv') #ACHTUNG: N muss hier händisch abgerundet werden!"
   ]
  },
  {
   "cell_type": "code",
   "execution_count": 63,
   "metadata": {},
   "outputs": [
    {
     "name": "stdout",
     "output_type": "stream",
     "text": [
      "sqrt((del_m)**2 + (0)**2 + (0)**2 + (0)**2 + (0)**2 + (0)**2 + (0)**2)\n",
      "sqrt((0)**2 + (del_b)**2 + (0)**2 + (0)**2 + (0)**2 + (0)**2 + (0)**2)\n",
      "sqrt((0)**2 + (0)**2 + (del_g_geg)**2 + (0)**2 + (0)**2 + (0)**2 + (0)**2)\n",
      "sqrt((0)**2 + (0)**2 + (0)**2 + (del_B)**2 + (0)**2 + (0)**2 + (0)**2)\n",
      "sqrt((0)**2 + (0)**2 + (0)**2 + (0)**2 + (del_g_git)**2 + (0)**2 + (0)**2)\n",
      "sqrt((0)**2 + (0)**2 + (0)**2 + (0)**2 + (0)**2 + (del_G)**2 + (0)**2)\n",
      "sqrt((0)**2 + (0)**2 + (0)**2 + (0)**2 + (0)**2 + (0)**2 + (del_N)**2)\n",
      "sqrt((N*del_m)**2 + (0)**2 + (0)**2 + (0)**2 + (0)**2 + (0)**2 + (del_N*m)**2)\n",
      "Zeile 1: [2.0, 0.0, 248.0, 3.0, 9.6, 1.0, 2.3, 0.3, 0.0009941, 6e-07, 0.089, 0.015, 89.0, 15.0, 178.0, 30.0]\n",
      "Zeile 2: [4.0, 0.0, 248.0, 3.0, 9.6, 1.0, 1.0, 0.2, 0.0009941, 6e-07, 0.039, 0.009, 38.0, 9.0, 152.0, 36.0]\n",
      "Zeile 3: [7.0, 0.0, 248.0, 3.0, 9.6, 1.0, 0.4, 0.15, 0.0009941, 6e-07, 0.016, 0.006, 15.0, 6.0, 105.0, 42.0]\n",
      "Auswertung abgeschlossen. Ergebnisse wurden in 'f_mess_G_N_rounded_mN.csv' gespeichert.\n"
     ]
    }
   ],
   "source": [
    "var_names=[m, b, g_geg, B, g_git, G, N]=sp.symbols('m b g_geg B g_git G N')\n",
    "formula_list=[\n",
    "\tm, b, g_geg, B, g_git, G, N,\n",
    "\tm*N\n",
    "    ]\n",
    "evaluate_gaussian_error('f_mess_G_N_rounded.csv',formulas=formula_list, variables=var_names, result_length=10,result_names=['m', 'b[cm]', 'g_geg[cm]', 'B[cm]', 'g_git [cm]', 'G [cm]', 'N_over', 'mN'], output_file_suffix='mN')"
   ]
  },
  {
   "cell_type": "code",
   "execution_count": 67,
   "metadata": {},
   "outputs": [
    {
     "name": "stdout",
     "output_type": "stream",
     "text": [
      "3.241433333333333\n",
      "3.4234166666666663\n",
      "4.053404761904762\n"
     ]
    }
   ],
   "source": [
    "print((275.243-178)/30)\n",
    "print((275.243-152)/36)\n",
    "print((275.243-105)/42)"
   ]
  },
  {
   "cell_type": "markdown",
   "metadata": {},
   "source": [
    "Statt dem Erwartungswert von $A=275.243$ wurden die folgenden Werte erzielt:\n",
    "\n",
    "$(m \\cdot N)_{2} \\pm \\Delta (m \\cdot N)_{2} = 178 \\pm 30 ~~~ (\\text{Abstand: } 3.24 \\sigma \\rightarrow 4 \\sigma \\text{- Bereich})$\n",
    "\n",
    "$(m \\cdot N)_{4} \\pm \\Delta (m \\cdot N)_{4} = 152 \\pm 36 ~~~ (\\text{Abstand: } 3.42 \\sigma \\rightarrow 4 \\sigma \\text{- Bereich})$\n",
    "\n",
    "$(m \\cdot N)_{7} \\pm \\Delta (m \\cdot N)_{7} = 105 \\pm 42 ~~~ (\\text{Abstand: } 4.05 \\sigma \\rightarrow 5 \\sigma \\text{- Bereich})$"
   ]
  },
  {
   "cell_type": "markdown",
   "metadata": {},
   "source": [
    "268.b"
   ]
  },
  {
   "cell_type": "code",
   "execution_count": 10,
   "metadata": {},
   "outputs": [
    {
     "name": "stdout",
     "output_type": "stream",
     "text": [
      "sqrt((del_m)**2 + (0)**2 + (0)**2)\n",
      "sqrt((0)**2 + (-del_x_l/2)**2 + (del_x_r/2)**2)\n",
      "Zeile 1: [1.0, 1e-07, 3.215, 0.3535533905932738]\n",
      "Zeile 2: [2.0, 1e-07, 6.025, 0.3535533905932738]\n",
      "Zeile 3: [3.0, 1e-07, 9.010000000000002, 0.3535533905932738]\n",
      "Zeile 4: [4.0, 1e-07, 12.060000000000002, 0.3535533905932738]\n",
      "Zeile 5: [5.0, 1e-07, 16.215, 0.7071067811865476]\n",
      "Auswertung abgeschlossen. Ergebnisse wurden in 'b_results.csv' gespeichert.\n"
     ]
    }
   ],
   "source": [
    "var_names=[m, x_l, x_r]=sp.symbols('m x_l x_r')\n",
    "formula_list=[\n",
    "    m,\n",
    "    (x_r - x_l) / 2\n",
    "    ]\n",
    "evaluate_gaussian_error('b.csv',formulas=formula_list, variables=var_names, result_length=20,result_names=['m', 'x_m'], output_file_suffix= 'results')"
   ]
  },
  {
   "cell_type": "code",
   "execution_count": 18,
   "metadata": {},
   "outputs": [
    {
     "name": "stdout",
     "output_type": "stream",
     "text": [
      "3.066318181818184 3.203500000000002\n",
      "Fit-Ergebnisse für Messung:\n",
      "Schwerpunkt: (2.64705882 ± 0.00000010, 8.1 ± 0.4)\n",
      "Steigung: 3.07 ± 0.14\n",
      "Y-Achsenabschnitt: -0.0 ± 0.4\n",
      "\n"
     ]
    },
    {
     "data": {
      "image/png": "[encoded data removed]",
      "text/plain": [
       "<Figure size 1100x600 with 1 Axes>"
      ]
     },
     "metadata": {},
     "output_type": "display_data"
    }
   ],
   "source": [
    "geraden_fit(\n",
    "    exp_nr='',\n",
    "    file_n='b_results.csv',\n",
    "    title=r'Abstand der Minima $x_m$ gegen Ordnung $m$',\n",
    "    x_label=r'Ordnung $m$',\n",
    "    y_label=r'Abstand der Minima $x_m$ [mm]',\n",
    "    save=True,\n",
    "    length=11,\n",
    "    height=6,\n",
    "    x_axis=0,\n",
    "    y_axis=0,\n",
    "    x_min=0.5,\n",
    "    x_major_ticks=1,   # Hauptticks alle 10 Einheiten\n",
    "    x_minor_ticks=0.5,    # Nebenticks alle 1 Einheit\n",
    "    y_major_ticks=2.5,\n",
    "     y_minor_ticks=1.25,\n",
    "    legendlocation='best',\n",
    "    y_labels=['Messung'],  # Provide labels for each dataset\n",
    "    # y_markers=['o'],       # Optional: specify markers\n",
    "    y_colors=['blue'], # Optional: specify colors\n",
    "    x_decimal_places=0,\n",
    "    y_decimal_places=2,\n",
    "    plot_errors =  True,\n",
    "    linear_fit=True,\n",
    "    plot_y_inter=False,\n",
    "    size = 1.3\n",
    ")"
   ]
  },
  {
   "cell_type": "code",
   "execution_count": 13,
   "metadata": {},
   "outputs": [
    {
     "name": "stdout",
     "output_type": "stream",
     "text": [
      "Formel: D*m/f\n",
      "Werte: ((m, 0.00307, 0.00014), (D, 0.0001, 1e-06), (f, 0.5, 0)) \n",
      "\n",
      "Formelwert: 6.14000000000000E-7\n",
      "\n",
      "Fehlerformel: sqrt((D*del_m/f)**2 + (del_D*m/f)**2)\n",
      "Fehler: 2.86653030683438E-8 \n",
      "Ergebnis: 6.1e-07±3e-08\n",
      "Das Ergebnis hat eine Genauigkeit von 4.918%\n"
     ]
    }
   ],
   "source": [
    "# Lambda bestimmen\n",
    "\n",
    "var_names=[m, D, f]=sp.symbols('m D f')\n",
    "formula=D * m / f\n",
    "gaussian_error_propagation(formula, ((m,0.00307,0.00014),(D,0.1 * 10**(-3),0.001 * 10**(-3)),(f,0.5,0)))"
   ]
  },
  {
   "cell_type": "code",
   "execution_count": 14,
   "metadata": {},
   "outputs": [
    {
     "name": "stdout",
     "output_type": "stream",
     "text": [
      "Formel: B*g/b\n",
      "Werte: ((g, 10, 0.3), (B, 2.5, 0.1), (b, 235, 0.5)) \n",
      "\n",
      "Formelwert: 0.106382978723404\n",
      "\n",
      "Fehlerformel: sqrt((B*del_g/b)**2 + (del_B*g/b)**2 + (-B*del_b*g/b**2)**2)\n",
      "Fehler: 0.00532396264659985 \n",
      "Ergebnis: 0.106±0.005\n",
      "Das Ergebnis hat eine Genauigkeit von 4.717%\n"
     ]
    }
   ],
   "source": [
    "# 368.c\n",
    "\n",
    "var_names=[b, g, B]=sp.symbols('b g B')\n",
    "formula=g * B / b\n",
    "gaussian_error_propagation(formula, ((g,10,0.3),(B,2.5,0.1),(b,235,0.5)))\n",
    "\n",
    "# d_0 Ergebnis in cm"
   ]
  },
  {
   "cell_type": "code",
   "execution_count": null,
   "metadata": {},
   "outputs": [],
   "source": []
  }
 ],
 "metadata": {
  "kernelspec": {
   "display_name": "Python 3",
   "language": "python",
   "name": "python3"
  },
  "language_info": {
   "codemirror_mode": {
    "name": "ipython",
    "version": 3
   },
   "file_extension": ".py",
   "mimetype": "text/x-python",
   "name": "python",
   "nbconvert_exporter": "python",
   "pygments_lexer": "ipython3",
   "version": "3.12.9"
  }
 },
 "nbformat": 4,
 "nbformat_minor": 2
}
