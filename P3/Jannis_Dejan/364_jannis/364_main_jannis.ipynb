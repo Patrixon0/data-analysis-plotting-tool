{
 "cells": [
  {
   "cell_type": "code",
   "execution_count": null,
   "metadata": {},
   "outputs": [],
   "source": [
    "import sys\n",
    "import os\n",
    "import sympy as sp\n",
    "import numpy as np\n",
    "import pandas as pd\n",
    "\n",
    "sys.path.append(os.path.abspath(os.path.join(os.getcwd(), '..', '..', '..')))\n",
    "import setup_paths\n",
    "\n",
    "from gauss_fehlerfortpflanzung import evaluate_gaussian_error\n",
    "from gauss_fehlerfortpflanzung import gaussian_error_propagation\n",
    "from geraden_fit import geraden_fit\n",
    "from scientific_error_rounder import runden_und_speichern\n",
    "from mean_calc_w_err import err_weighted_mean\n",
    "from tabelle import tabellen_ersteller\n",
    "from geraden_fit_config import config_1"
   ]
  },
  {
   "cell_type": "markdown",
   "metadata": {},
   "source": [
    "<H2>Messungen am Mikroskop</H2>"
   ]
  },
  {
   "cell_type": "markdown",
   "metadata": {},
   "source": [
    "**364.a:** Messung von $\\gamma_{obj}$"
   ]
  },
  {
   "cell_type": "code",
   "execution_count": 2,
   "metadata": {},
   "outputs": [
    {
     "name": "stdout",
     "output_type": "stream",
     "text": [
      "Formel: Bz/G\n",
      "Werte: ((Bz, 10, 1), (G, 0.9, 0.05)) \n",
      "\n",
      "Formelwert: 11.1111111111111\n",
      "\n",
      "Fehlerformel: sqrt((del_Bz/G)**2 + (-Bz*del_G/G**2)**2)\n",
      "Fehler: 1.27106544950457 \n",
      "Ergebnis: 11.1±1.3\n",
      "Das Ergebnis hat eine Genauigkeit von 11.712%\n"
     ]
    }
   ],
   "source": [
    "# x10 Objektiv: B_z=10mm, G=0.9mm\n",
    "var_names=[Bz, G]=sp.symbols('Bz G')\n",
    "formula=Bz/G\n",
    "gaussian_error_propagation(formula, ((Bz,10,1),(G,0.9,0.05)))"
   ]
  },
  {
   "cell_type": "code",
   "execution_count": 3,
   "metadata": {},
   "outputs": [
    {
     "name": "stdout",
     "output_type": "stream",
     "text": [
      "Formel: Bz/G\n",
      "Werte: ((Bz, 10, 1), (G, 0.5, 0.05)) \n",
      "\n",
      "Formelwert: 20.0000000000000\n",
      "\n",
      "Fehlerformel: sqrt((del_Bz/G)**2 + (-Bz*del_G/G**2)**2)\n",
      "Fehler: 2.82842712474619 \n",
      "Ergebnis: 20.0±3.0\n",
      "Das Ergebnis hat eine Genauigkeit von 15.0%\n"
     ]
    }
   ],
   "source": [
    "# x20 Objektiv: B_z=10mm, G=0.5mm\n",
    "var_names=[Bz, G]=sp.symbols('Bz G')\n",
    "formula=Bz/G\n",
    "gaussian_error_propagation(formula, ((Bz,10,1),(G,0.5,0.05)))"
   ]
  },
  {
   "cell_type": "markdown",
   "metadata": {},
   "source": [
    "Messung des Gesamtabbildungsmaßstabs $\\gamma_M$"
   ]
  },
  {
   "cell_type": "code",
   "execution_count": 4,
   "metadata": {},
   "outputs": [
    {
     "name": "stdout",
     "output_type": "stream",
     "text": [
      "Formel: B/G\n",
      "Werte: ((B, 10, 1), (G, 0.1, 0.005)) \n",
      "\n",
      "Formelwert: 100.000000000000\n",
      "\n",
      "Fehlerformel: sqrt((del_B/G)**2 + (-B*del_G/G**2)**2)\n",
      "Fehler: 11.1803398874989 \n",
      "Ergebnis: 100.0±11.0\n",
      "Das Ergebnis hat eine Genauigkeit von 11.0%\n"
     ]
    }
   ],
   "source": [
    "# x10 Okular; x10 Objektiv: B=10mm, G=0.1mm\n",
    "var_names=[B, G]=sp.symbols('B G')\n",
    "formula=B/G\n",
    "gaussian_error_propagation(formula, ((B,10,1),(G,0.1,0.005)))"
   ]
  },
  {
   "cell_type": "code",
   "execution_count": 5,
   "metadata": {},
   "outputs": [
    {
     "name": "stdout",
     "output_type": "stream",
     "text": [
      "Formel: B/G\n",
      "Werte: ((B, 9, 1), (G, 0.1, 0.005)) \n",
      "\n",
      "Formelwert: 90.0000000000000\n",
      "\n",
      "Fehlerformel: sqrt((del_B/G)**2 + (-B*del_G/G**2)**2)\n",
      "Fehler: 10.9658560997307 \n",
      "Ergebnis: 90.0±11.0\n",
      "Das Ergebnis hat eine Genauigkeit von 12.222%\n"
     ]
    }
   ],
   "source": [
    "# x5 Okular; x20 Objektiv: B=9mm, G=0.1mm\n",
    "var_names=[B, G]=sp.symbols('B G')\n",
    "formula=B/G\n",
    "gaussian_error_propagation(formula, ((B,9,1),(G,0.1,0.005)))"
   ]
  },
  {
   "cell_type": "markdown",
   "metadata": {},
   "source": [
    "Berechnung der Vergrößerung $V_{oku}$"
   ]
  },
  {
   "cell_type": "code",
   "execution_count": 6,
   "metadata": {},
   "outputs": [
    {
     "name": "stdout",
     "output_type": "stream",
     "text": [
      "Formel: gamma_M*s_0/(b*gamma_obj)\n",
      "Werte: ((gamma_M, 100, 11), (gamma_obj, 11.1, 1.3), (s_0, 25, 0), (b, 21.5, 0.5)) \n",
      "\n",
      "Formelwert: 10.4755918709407\n",
      "\n",
      "Fehlerformel: sqrt((del_gamma_M*s_0/(b*gamma_obj))**2 + (-del_gamma_obj*gamma_M*s_0/(b*gamma_obj**2))**2 + (-del_b*gamma_M*s_0/(b**2*gamma_obj))**2)\n",
      "Fehler: 1.70070361339749 \n",
      "Ergebnis: 10.5±1.7\n",
      "Das Ergebnis hat eine Genauigkeit von 16.19%\n"
     ]
    }
   ],
   "source": [
    "# x10 Okular; x10 Objektiv: gamma_M=100; gamma_obj=11.1\n",
    "var_names=[gamma_M, gamma_obj, s_0, b]=sp.symbols('gamma_M gamma_obj s_0 b')\n",
    "formula=gamma_M*s_0/(gamma_obj*b)\n",
    "gaussian_error_propagation(formula, ((gamma_M,100,11),(gamma_obj,11.1,1.3),(s_0,25,0),(b,21.5,0.5)))"
   ]
  },
  {
   "cell_type": "code",
   "execution_count": 7,
   "metadata": {},
   "outputs": [
    {
     "name": "stdout",
     "output_type": "stream",
     "text": [
      "Formel: gamma_M*s_0/(b*gamma_obj)\n",
      "Werte: ((gamma_M, 90, 12), (gamma_obj, 20.0, 2.9), (s_0, 25, 0), (b, 21.5, 0.5)) \n",
      "\n",
      "Formelwert: 5.23255813953489\n",
      "\n",
      "Fehlerformel: sqrt((del_gamma_M*s_0/(b*gamma_obj))**2 + (-del_gamma_obj*gamma_M*s_0/(b*gamma_obj**2))**2 + (-del_b*gamma_M*s_0/(b**2*gamma_obj))**2)\n",
      "Fehler: 1.03788962193715 \n",
      "Ergebnis: 5.2±1.0\n",
      "Das Ergebnis hat eine Genauigkeit von 19.231%\n"
     ]
    }
   ],
   "source": [
    "# 5 Okular; 20 Objektiv: gamma_M=90; gamma_obj=20\n",
    "var_names=[gamma_M, gamma_obj, s_0, b]=sp.symbols('gamma_M gamma_obj s_0 b')\n",
    "formula=gamma_M*s_0/(gamma_obj*b)\n",
    "gaussian_error_propagation(formula, ((gamma_M,90,12),(gamma_obj,20.0,2.9),(s_0,25,0),(b,21.5,0.5)))"
   ]
  },
  {
   "cell_type": "markdown",
   "metadata": {},
   "source": [
    "**364.b:** Brennweite $f$ des x20-Okulars übers Abbe-Verfahren"
   ]
  },
  {
   "cell_type": "code",
   "execution_count": 8,
   "metadata": {},
   "outputs": [
    {
     "name": "stdout",
     "output_type": "stream",
     "text": [
      "Formel: G*dT/(-B1 + B2)\n",
      "Werte: ((G, 0.1, 0), (dT, 60, 1), (B1, 9, 1), (B2, 14, 1)) \n",
      "\n",
      "Formelwert: 1.20000000000000\n",
      "\n",
      "Fehlerformel: sqrt((G*del_dT/(-B1 + B2))**2 + (G*dT*del_B1/(-B1 + B2)**2)**2 + (-G*dT*del_B2/(-B1 + B2)**2)**2)\n",
      "Fehler: 0.340000000000000 \n",
      "Ergebnis: 1.2±0.3\n",
      "Das Ergebnis hat eine Genauigkeit von 25.0%\n"
     ]
    }
   ],
   "source": [
    "# f=G*(T2-T1)/(B2-B1)\n",
    "var_names=[G, dT, B1, B2]=sp.symbols('G dT B1 B2')\n",
    "formula=G*dT/(B2-B1)\n",
    "gaussian_error_propagation(formula, ((G,0.1,0),(dT,60,1),(B1,9,1),(B2,14,1)))"
   ]
  },
  {
   "cell_type": "markdown",
   "metadata": {},
   "source": [
    "<H2>Messungen am Fernrohr</H2>"
   ]
  },
  {
   "cell_type": "markdown",
   "metadata": {},
   "source": [
    "**364.c:** Astronomisches Fernrohr mit mind. 6-facher Vergrößerung $V_f=\\frac{\\frac{B_Z}{f_{oku}}}{\\frac{B_Z}{f_{obj}}}=\\frac{f_{obj}}{f_{oku}}$ bzw. $V=N/M$"
   ]
  },
  {
   "cell_type": "code",
   "execution_count": 9,
   "metadata": {},
   "outputs": [
    {
     "name": "stdout",
     "output_type": "stream",
     "text": [
      "Formel: N/M\n",
      "Werte: ((N, 100, 0), (M, 13, 1)) \n",
      "\n",
      "Formelwert: 7.69230769230769\n",
      "\n",
      "Fehlerformel: sqrt((-N*del_M/M**2)**2)\n",
      "Fehler: 0.591715976331361 \n",
      "Ergebnis: 7.7±0.6\n",
      "Das Ergebnis hat eine Genauigkeit von 7.792%\n"
     ]
    }
   ],
   "source": [
    "# Gemessen\n",
    "var_names=[N, M]=sp.symbols('N M')\n",
    "formula=N/M\n",
    "gaussian_error_propagation(formula, ((N,100,0),(M, 13,1)))"
   ]
  },
  {
   "cell_type": "code",
   "execution_count": 10,
   "metadata": {},
   "outputs": [
    {
     "name": "stdout",
     "output_type": "stream",
     "text": [
      "Formel: f_obj/f_oku\n",
      "Werte: ((f_obj, 300, 0), (f_oku, 38, 0)) \n",
      "\n",
      "Formelwert: 7.89473684210526\n",
      "\n",
      "Fehlerformel: sqrt()\n",
      "Fehler: 0 \n",
      "Ergebnis: 7.89473684210526±0.0\n",
      "Das Ergebnis hat eine Genauigkeit von 0.0%\n"
     ]
    }
   ],
   "source": [
    "# Erwartet:\n",
    "var_names=[f_obj, f_oku]=sp.symbols('f_obj f_oku')\n",
    "formula=f_obj/f_oku\n",
    "gaussian_error_propagation(formula, ((f_obj,300,0),(f_oku,38,0)))"
   ]
  },
  {
   "cell_type": "markdown",
   "metadata": {},
   "source": [
    "Am Rand des sichtfeldes tritt starke sphärische Aberation auf, die mit der Vergrößerung zunimmt."
   ]
  },
  {
   "cell_type": "markdown",
   "metadata": {},
   "source": [
    "**364.d:** Andere Okularlinsen"
   ]
  },
  {
   "cell_type": "markdown",
   "metadata": {},
   "source": [
    "$f_{oku}=50,2 \\, mm$"
   ]
  },
  {
   "cell_type": "code",
   "execution_count": 11,
   "metadata": {},
   "outputs": [
    {
     "name": "stdout",
     "output_type": "stream",
     "text": [
      "Formel: N/M\n",
      "Werte: ((N, 100, 0), (M, 16, 1)) \n",
      "\n",
      "Formelwert: 6.25000000000000\n",
      "\n",
      "Fehlerformel: sqrt((-N*del_M/M**2)**2)\n",
      "Fehler: 0.390625000000000 \n",
      "Ergebnis: 6.3±0.4\n",
      "Das Ergebnis hat eine Genauigkeit von 6.349%\n"
     ]
    }
   ],
   "source": [
    "# Gemessen\n",
    "var_names=[N, M]=sp.symbols('N M')\n",
    "formula=N/M\n",
    "gaussian_error_propagation(formula, ((N,100,0),(M, 16,1)))"
   ]
  },
  {
   "cell_type": "code",
   "execution_count": 12,
   "metadata": {},
   "outputs": [
    {
     "name": "stdout",
     "output_type": "stream",
     "text": [
      "Formel: f_obj/f_oku\n",
      "Werte: ((f_obj, 300, 0), (f_oku, 50.2, 0)) \n",
      "\n",
      "Formelwert: 5.97609561752988\n",
      "\n",
      "Fehlerformel: sqrt()\n",
      "Fehler: 0 \n",
      "Ergebnis: 5.97609561752988±0.0\n",
      "Das Ergebnis hat eine Genauigkeit von 0.0%\n"
     ]
    }
   ],
   "source": [
    "# Erwartet:\n",
    "var_names=[f_obj, f_oku]=sp.symbols('f_obj f_oku')\n",
    "formula=f_obj/f_oku\n",
    "gaussian_error_propagation(formula, ((f_obj,300,0),(f_oku,50.2,0)))"
   ]
  },
  {
   "cell_type": "markdown",
   "metadata": {},
   "source": [
    "$f_{oku}=12,7 \\, mm$"
   ]
  },
  {
   "cell_type": "code",
   "execution_count": 13,
   "metadata": {},
   "outputs": [
    {
     "name": "stdout",
     "output_type": "stream",
     "text": [
      "Formel: N/M\n",
      "Werte: ((N, 100, 0), (M, 6, 2)) \n",
      "\n",
      "Formelwert: 16.6666666666667\n",
      "\n",
      "Fehlerformel: sqrt((-N*del_M/M**2)**2)\n",
      "Fehler: 5.55555555555556 \n",
      "Ergebnis: 17.0±6.0\n",
      "Das Ergebnis hat eine Genauigkeit von 35.294%\n"
     ]
    }
   ],
   "source": [
    "# Gemessen\n",
    "var_names=[N, M]=sp.symbols('N M')\n",
    "formula=N/M\n",
    "gaussian_error_propagation(formula, ((N,100,0),(M, 6,2)))"
   ]
  },
  {
   "cell_type": "code",
   "execution_count": 14,
   "metadata": {},
   "outputs": [
    {
     "name": "stdout",
     "output_type": "stream",
     "text": [
      "Formel: f_obj/f_oku\n",
      "Werte: ((f_obj, 300, 0), (f_oku, 12.7, 0)) \n",
      "\n",
      "Formelwert: 23.6220472440945\n",
      "\n",
      "Fehlerformel: sqrt()\n",
      "Fehler: 0 \n",
      "Ergebnis: 23.6220472440945±0.0\n",
      "Das Ergebnis hat eine Genauigkeit von 0.0%\n"
     ]
    }
   ],
   "source": [
    "# Erwartet:\n",
    "var_names=[f_obj, f_oku]=sp.symbols('f_obj f_oku')\n",
    "formula=f_obj/f_oku\n",
    "gaussian_error_propagation(formula, ((f_obj,300,0),(f_oku,12.7,0)))"
   ]
  },
  {
   "cell_type": "markdown",
   "metadata": {},
   "source": [
    "**364.e:** Terrestrisches Fernrohr mit $f_{oku}=38 \\, mm$ und $f_{Dreh}=12.7 \\, mm$"
   ]
  },
  {
   "cell_type": "code",
   "execution_count": 15,
   "metadata": {},
   "outputs": [
    {
     "name": "stdout",
     "output_type": "stream",
     "text": [
      "Formel: N/M\n",
      "Werte: ((N, 21, 1), (M, 3, 0.5)) \n",
      "\n",
      "Formelwert: 7.00000000000000\n",
      "\n",
      "Fehlerformel: sqrt((del_N/M)**2 + (-N*del_M/M**2)**2)\n",
      "Fehler: 1.21335164821342 \n",
      "Ergebnis: 7.0±1.2\n",
      "Das Ergebnis hat eine Genauigkeit von 17.143%\n"
     ]
    }
   ],
   "source": [
    "# Gemessen\n",
    "var_names=[N, M]=sp.symbols('N M')\n",
    "formula=N/M\n",
    "gaussian_error_propagation(formula, ((N,21,1),(M,3,0.5)))"
   ]
  },
  {
   "cell_type": "markdown",
   "metadata": {},
   "source": [
    "**364.f:** Gallileisches Fernrohr mit $f_{oku}=-12.5 \\, mm$"
   ]
  },
  {
   "cell_type": "code",
   "execution_count": 16,
   "metadata": {},
   "outputs": [
    {
     "name": "stdout",
     "output_type": "stream",
     "text": [
      "Formel: N/M\n",
      "Werte: ((N, 70, 10), (M, 5, 1)) \n",
      "\n",
      "Formelwert: 14.0000000000000\n",
      "\n",
      "Fehlerformel: sqrt((del_N/M)**2 + (-N*del_M/M**2)**2)\n",
      "Fehler: 3.44093010681705 \n",
      "Ergebnis: 14.0±3.0\n",
      "Das Ergebnis hat eine Genauigkeit von 21.429%\n"
     ]
    }
   ],
   "source": [
    "# Gemessen\n",
    "var_names=[N, M]=sp.symbols('N M')\n",
    "formula=N/M\n",
    "gaussian_error_propagation(formula, ((N,70,10),(M, 5,1)))"
   ]
  },
  {
   "cell_type": "code",
   "execution_count": 17,
   "metadata": {},
   "outputs": [
    {
     "name": "stdout",
     "output_type": "stream",
     "text": [
      "Formel: f_obj/f_oku\n",
      "Werte: ((f_obj, 300, 0), (f_oku, -12.5, 0)) \n",
      "\n",
      "Formelwert: -24.0000000000000\n",
      "\n",
      "Fehlerformel: sqrt()\n",
      "Fehler: 0 \n",
      "Ergebnis: -24.0±0.0\n",
      "Das Ergebnis hat eine Genauigkeit von -0.0%\n"
     ]
    }
   ],
   "source": [
    "# Erwartet:\n",
    "var_names=[f_obj, f_oku]=sp.symbols('f_obj f_oku')\n",
    "formula=f_obj/f_oku\n",
    "gaussian_error_propagation(formula, ((f_obj,300,0),(f_oku,-12.5,0)))"
   ]
  },
  {
   "cell_type": "markdown",
   "metadata": {},
   "source": [
    "<H2>Messung des Auflösungsvermögens von Linsen</H2>"
   ]
  },
  {
   "cell_type": "markdown",
   "metadata": {},
   "source": [
    "**364.f:** Bestätigung des kleinsten auflösbaren Sehwinkels nach dem Rayleigh-Kriterium"
   ]
  },
  {
   "cell_type": "code",
   "execution_count": null,
   "metadata": {},
   "outputs": [
    {
     "name": "stdout",
     "output_type": "stream",
     "text": [
      "sqrt((del_DB)**2 + (0)**2 + (0)**2 + (0)**2)\n",
      "sqrt((0)**2 + (-0.00938967136150235*DS*del_xl)**2 + (0)**2 + (del_DS*(1.0 - 0.00938967136150235*xl))**2)\n",
      "sqrt((0)**2 + (0)**2 + (del_E)**2 + (0)**2)\n",
      "Zeile 1: [3.0, 1e-07, 0.0, 1.5962441315, 6580.0, 100.0]\n",
      "Zeile 2: [2.0, 1e-07, 19.1549295775, 1.6002159919, 6580.0, 100.0]\n",
      "Zeile 3: [1.0, 1e-07, 34.3192488263, 1.6089592995, 6580.0, 100.0]\n",
      "Zeile 4: [0.6, 1e-07, 71.8309859155, 1.6512211639, 6580.0, 100.0]\n",
      "Zeile 5: [0.3, 1e-07, 170.0, 1.8836123081, 6580.0, 100.0]\n",
      "Auswertung abgeschlossen. Ergebnisse wurden in 'g_mess_results.csv' gespeichert.\n"
     ]
    }
   ],
   "source": [
    "# Die Skalenmitte (also 90°) waren bei uns 106.5 skt. Dementsprechend müssen zunächst Skalenteile in Grad bzw. danach in Sehwinkel umgerechnet werden.\n",
    "mid=106.5\n",
    "var_names=[DB, xl, E, DS]=sp.symbols('DB xl E DS')\n",
    "formula_list=[\n",
    "    DB,\n",
    "\t90,\n",
    "\tE\n",
    "    ]\n",
    "evaluate_gaussian_error('g_mess.csv',formulas=formula_list, variables=var_names, result_length=10,result_names=['D_B [mm]','D_streifen [mm]', 'E [mm]'])"
   ]
  },
  {
   "cell_type": "code",
   "execution_count": 19,
   "metadata": {},
   "outputs": [
    {
     "name": "stdout",
     "output_type": "stream",
     "text": [
      "sqrt((-del_DB/DB**2)**2 + (0)**2 + (0)**2)\n",
      "sqrt((0)**2 + (250*pi*del_D_str/(9*E))**2 + (-250*pi*D_str*del_E/(9*E**2))**2)\n",
      "Zeile 1: [0.3333333333, 1.11e-08, 0.0, 0.0211699968]\n",
      "Zeile 2: [0.5, 2.5e-08, 0.2540399613, 0.0215709886]\n",
      "Zeile 3: [1.0, 1e-07, 0.4551549307, 0.0224317957]\n",
      "Zeile 4: [1.6666666667, 2.778e-07, 0.952649855, 0.0262522943]\n",
      "Zeile 5: [3.3333333333, 1.1111e-06, 2.2546046568, 0.0424041983]\n",
      "Auswertung abgeschlossen. Ergebnisse wurden in 'g_mess_results_plot.csv' gespeichert.\n"
     ]
    }
   ],
   "source": [
    "# Es muss nun 1/D_B für den Plot bestimmt werden\n",
    "var_names=[DB, D_str, E]=sp.symbols('DB D_str E')\n",
    "formula_list=[\n",
    "    1/DB,\n",
    "\tD_str*sp.pi/(36*E)*10**3\n",
    "    ]\n",
    "evaluate_gaussian_error('g_mess_results.csv',formulas=formula_list, variables=var_names, result_length=10,result_names=['1/D_B [1/mm]','alpha [rad]'], output_file_suffix='plot')"
   ]
  },
  {
   "cell_type": "code",
   "execution_count": 20,
   "metadata": {},
   "outputs": [
    {
     "name": "stdout",
     "output_type": "stream",
     "text": [
      "Die gerundeten Daten wurden in der CSV-Datei \"g_mess_results_plot_rounded.csv\" gespeichert.\n"
     ]
    }
   ],
   "source": [
    "runden_und_speichern('g_mess_results_plot.csv')"
   ]
  },
  {
   "cell_type": "code",
   "execution_count": 21,
   "metadata": {},
   "outputs": [
    {
     "name": "stdout",
     "output_type": "stream",
     "text": [
      "0.7164509912183651 0.9694748593334284\n",
      "Fit-Ergebnisse für 1:\n",
      "Schwerpunkt: (0.964523768 ± 0.000000023, 0.488 ± 0.024)\n",
      "Steigung: 0.716 ± 0.014\n",
      "Y-Achsenabschnitt: -0.203 ± 0.017\n",
      "\n"
     ]
    },
    {
     "data": {
      "image/png": "[encoded data removed]",
      "text/plain": [
       "<Figure size 1000x500 with 1 Axes>"
      ]
     },
     "metadata": {},
     "output_type": "display_data"
    }
   ],
   "source": [
    "geraden_fit('g_mess_results_plot.csv', title='Rayleigh-Kriterium', x_label=r'$1/D_{Blende}$ [1/mm]', y_label=r'$\\alpha \\cdot 10^{-3}$ [rad]',\n",
    "\t\t\tsave=True, linear_fit=True, focus_point=True, plot_y_inter=True, legendlocation='upper left')"
   ]
  },
  {
   "cell_type": "code",
   "execution_count": 22,
   "metadata": {},
   "outputs": [
    {
     "name": "stdout",
     "output_type": "stream",
     "text": [
      "Formel: 0.819672131147541*m\n",
      "Werte: ((m, 0.000716, 1.4e-05), (f_oku, -12.5, 0)) \n",
      "\n",
      "Formelwert: 0.000586885245901639\n",
      "\n",
      "Fehlerformel: sqrt((0.819672131147541*del_m)**2)\n",
      "Fehler: 0.0000114754098360656 \n",
      "Ergebnis: 0.000587±1.1e-05\n",
      "Das Ergebnis hat eine Genauigkeit von 1.874%\n"
     ]
    }
   ],
   "source": [
    "# Berechnung der effektiven Lichtwellenlänge\n",
    "var_names=[m, x]=sp.symbols('m x')\n",
    "formula=m/1.22\n",
    "gaussian_error_propagation(formula, ((m,0.000716,0.000014),(f_oku,-12.5,0)), result_lenght=8)"
   ]
  }
 ],
 "metadata": {
  "kernelspec": {
   "display_name": "Python 3",
   "language": "python",
   "name": "python3"
  },
  "language_info": {
   "codemirror_mode": {
    "name": "ipython",
    "version": 3
   },
   "file_extension": ".py",
   "mimetype": "text/x-python",
   "name": "python",
   "nbconvert_exporter": "python",
   "pygments_lexer": "ipython3",
   "version": "3.12.9"
  }
 },
 "nbformat": 4,
 "nbformat_minor": 2
}
